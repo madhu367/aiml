{
 "cells": [
  {
   "cell_type": "markdown",
   "metadata": {},
   "source": [
    "# Product Recommendation Systems - Assignment"
   ]
  },
  {
   "cell_type": "markdown",
   "metadata": {},
   "source": [
    "### 1. Load and understand the data"
   ]
  },
  {
   "cell_type": "markdown",
   "metadata": {},
   "source": [
    "#### 1.1 Import required Python packages "
   ]
  },
  {
   "cell_type": "code",
   "execution_count": 1,
   "metadata": {},
   "outputs": [],
   "source": [
    "import numpy as np # linear algebra\n",
    "import pandas as pd # data processing, CSV file I/O (e.g. pd.read_csv)\n",
    "import matplotlib.pyplot as plt # matplotlib.pyplot plots data\n",
    "%matplotlib inline \n",
    "import seaborn as sns\n",
    "sns.set(color_codes=True)\n",
    "\n",
    "from surprise import SVD\n",
    "from surprise import Dataset\n",
    "from surprise import Reader\n",
    "from surprise import accuracy\n",
    "from surprise import KNNWithMeans\n",
    "from surprise.model_selection import GridSearchCV\n",
    "from surprise.model_selection import cross_validate"
   ]
  },
  {
   "cell_type": "markdown",
   "metadata": {},
   "source": [
    "#### 1.2 Set Display settings"
   ]
  },
  {
   "cell_type": "code",
   "execution_count": 2,
   "metadata": {},
   "outputs": [
    {
     "data": {
      "text/html": [
       "\n",
       "<style>\n",
       ".output_png {\n",
       "    display: table-cell;\n",
       "    text-align: center;\n",
       "    vertical-align: middle;\n",
       "}\n",
       "div.text_cell_render {\n",
       "font-family: \"Trebuchet MS\", \"Helvetica\", sans-serif;\n",
       "}\n",
       "</style>\n"
      ],
      "text/plain": [
       "<IPython.core.display.HTML object>"
      ]
     },
     "execution_count": 2,
     "metadata": {},
     "output_type": "execute_result"
    }
   ],
   "source": [
    "from IPython.core.display import HTML, display\n",
    "HTML(\"\"\"\n",
    "<style>\n",
    ".output_png {\n",
    "    display: table-cell;\n",
    "    text-align: center;\n",
    "    vertical-align: middle;\n",
    "}\n",
    "div.text_cell_render {\n",
    "font-family: \"Trebuchet MS\", \"Helvetica\", sans-serif;\n",
    "}\n",
    "</style>\n",
    "\"\"\")"
   ]
  },
  {
   "cell_type": "markdown",
   "metadata": {},
   "source": [
    "#### 1.3 Read data set and print the shape of the data"
   ]
  },
  {
   "cell_type": "code",
   "execution_count": 3,
   "metadata": {
    "scrolled": true
   },
   "outputs": [
    {
     "name": "stdout",
     "output_type": "stream",
     "text": [
      "Shape of the data set is  (7824482, 3)\n"
     ]
    },
    {
     "data": {
      "text/html": [
       "<div>\n",
       "<style scoped>\n",
       "    .dataframe tbody tr th:only-of-type {\n",
       "        vertical-align: middle;\n",
       "    }\n",
       "\n",
       "    .dataframe tbody tr th {\n",
       "        vertical-align: top;\n",
       "    }\n",
       "\n",
       "    .dataframe thead th {\n",
       "        text-align: right;\n",
       "    }\n",
       "</style>\n",
       "<table border=\"1\" class=\"dataframe\">\n",
       "  <thead>\n",
       "    <tr style=\"text-align: right;\">\n",
       "      <th></th>\n",
       "      <th>userId</th>\n",
       "      <th>productId</th>\n",
       "      <th>ratings</th>\n",
       "    </tr>\n",
       "  </thead>\n",
       "  <tbody>\n",
       "    <tr>\n",
       "      <th>0</th>\n",
       "      <td>AKM1MP6P0OYPR</td>\n",
       "      <td>0132793040</td>\n",
       "      <td>5.0</td>\n",
       "    </tr>\n",
       "    <tr>\n",
       "      <th>1</th>\n",
       "      <td>A2CX7LUOHB2NDG</td>\n",
       "      <td>0321732944</td>\n",
       "      <td>5.0</td>\n",
       "    </tr>\n",
       "    <tr>\n",
       "      <th>2</th>\n",
       "      <td>A2NWSAGRHCP8N5</td>\n",
       "      <td>0439886341</td>\n",
       "      <td>1.0</td>\n",
       "    </tr>\n",
       "    <tr>\n",
       "      <th>3</th>\n",
       "      <td>A2WNBOD3WNDNKT</td>\n",
       "      <td>0439886341</td>\n",
       "      <td>3.0</td>\n",
       "    </tr>\n",
       "    <tr>\n",
       "      <th>4</th>\n",
       "      <td>A1GI0U4ZRJA8WN</td>\n",
       "      <td>0439886341</td>\n",
       "      <td>1.0</td>\n",
       "    </tr>\n",
       "    <tr>\n",
       "      <th>5</th>\n",
       "      <td>A1QGNMC6O1VW39</td>\n",
       "      <td>0511189877</td>\n",
       "      <td>5.0</td>\n",
       "    </tr>\n",
       "    <tr>\n",
       "      <th>6</th>\n",
       "      <td>A3J3BRHTDRFJ2G</td>\n",
       "      <td>0511189877</td>\n",
       "      <td>2.0</td>\n",
       "    </tr>\n",
       "    <tr>\n",
       "      <th>7</th>\n",
       "      <td>A2TY0BTJOTENPG</td>\n",
       "      <td>0511189877</td>\n",
       "      <td>5.0</td>\n",
       "    </tr>\n",
       "    <tr>\n",
       "      <th>8</th>\n",
       "      <td>A34ATBPOK6HCHY</td>\n",
       "      <td>0511189877</td>\n",
       "      <td>5.0</td>\n",
       "    </tr>\n",
       "    <tr>\n",
       "      <th>9</th>\n",
       "      <td>A89DO69P0XZ27</td>\n",
       "      <td>0511189877</td>\n",
       "      <td>5.0</td>\n",
       "    </tr>\n",
       "  </tbody>\n",
       "</table>\n",
       "</div>"
      ],
      "text/plain": [
       "           userId   productId  ratings\n",
       "0   AKM1MP6P0OYPR  0132793040      5.0\n",
       "1  A2CX7LUOHB2NDG  0321732944      5.0\n",
       "2  A2NWSAGRHCP8N5  0439886341      1.0\n",
       "3  A2WNBOD3WNDNKT  0439886341      3.0\n",
       "4  A1GI0U4ZRJA8WN  0439886341      1.0\n",
       "5  A1QGNMC6O1VW39  0511189877      5.0\n",
       "6  A3J3BRHTDRFJ2G  0511189877      2.0\n",
       "7  A2TY0BTJOTENPG  0511189877      5.0\n",
       "8  A34ATBPOK6HCHY  0511189877      5.0\n",
       "9   A89DO69P0XZ27  0511189877      5.0"
      ]
     },
     "execution_count": 3,
     "metadata": {},
     "output_type": "execute_result"
    }
   ],
   "source": [
    "# ignoring the \"Timestamp\" column when loading the dataset\n",
    "pdata = pd.read_csv(\"ratings_Electronics.csv\", header=None,usecols=[0,1,2] )\n",
    "print(\"Shape of the data set is \",pdata.shape)\n",
    "pdata.columns = ['userId','productId','ratings']\n",
    "pdata.head(10)"
   ]
  },
  {
   "cell_type": "markdown",
   "metadata": {},
   "source": [
    "####  <font color='blue'>There are 7824482 rows in the dataset. There are 4 columns but we have omitted the \"timestamp\" column while reading. So, there are 3 columns \"userId\", \"productId\" and \"ratings\" in the dataframe.</font>"
   ]
  },
  {
   "cell_type": "markdown",
   "metadata": {},
   "source": [
    "####  1.4 List data types of all attributes"
   ]
  },
  {
   "cell_type": "code",
   "execution_count": 4,
   "metadata": {},
   "outputs": [
    {
     "data": {
      "text/plain": [
       "userId        object\n",
       "productId     object\n",
       "ratings      float64\n",
       "dtype: object"
      ]
     },
     "execution_count": 4,
     "metadata": {},
     "output_type": "execute_result"
    }
   ],
   "source": [
    "pdata.dtypes"
   ]
  },
  {
   "cell_type": "markdown",
   "metadata": {},
   "source": [
    "####  <font color='blue'>There are 2 object variables \"userId\" and \"productId. There is 1 numeric variable \"ratings\"</font>"
   ]
  },
  {
   "cell_type": "markdown",
   "metadata": {},
   "source": [
    "#### 1.5 Check for missing values"
   ]
  },
  {
   "cell_type": "code",
   "execution_count": 5,
   "metadata": {},
   "outputs": [
    {
     "name": "stdout",
     "output_type": "stream",
     "text": [
      "There are no missing values in the data\n"
     ]
    }
   ],
   "source": [
    "n_missingvalues=pdata.isnull().values.sum() + pdata.isna().values.sum()\n",
    "\n",
    "if (n_missingvalues ==0):\n",
    "    print (\"There are no missing values in the data\")\n",
    "else:\n",
    "    print (\"There are\",n_missingvalues,\"missing values in the data\")"
   ]
  },
  {
   "cell_type": "markdown",
   "metadata": {},
   "source": [
    "#### <font color='blue'>There are no missing values (null/NaN) across the data</font>"
   ]
  },
  {
   "cell_type": "markdown",
   "metadata": {},
   "source": [
    "#### 1.6 List a 5-point summary & mean of numerical attributes"
   ]
  },
  {
   "cell_type": "code",
   "execution_count": 6,
   "metadata": {},
   "outputs": [
    {
     "data": {
      "text/html": [
       "<div>\n",
       "<style scoped>\n",
       "    .dataframe tbody tr th:only-of-type {\n",
       "        vertical-align: middle;\n",
       "    }\n",
       "\n",
       "    .dataframe tbody tr th {\n",
       "        vertical-align: top;\n",
       "    }\n",
       "\n",
       "    .dataframe thead th {\n",
       "        text-align: right;\n",
       "    }\n",
       "</style>\n",
       "<table border=\"1\" class=\"dataframe\">\n",
       "  <thead>\n",
       "    <tr style=\"text-align: right;\">\n",
       "      <th></th>\n",
       "      <th>min</th>\n",
       "      <th>25%</th>\n",
       "      <th>50%</th>\n",
       "      <th>mean</th>\n",
       "      <th>75%</th>\n",
       "      <th>max</th>\n",
       "      <th>std</th>\n",
       "    </tr>\n",
       "  </thead>\n",
       "  <tbody>\n",
       "    <tr>\n",
       "      <th>ratings</th>\n",
       "      <td>1.0</td>\n",
       "      <td>3.0</td>\n",
       "      <td>5.0</td>\n",
       "      <td>4.012337</td>\n",
       "      <td>5.0</td>\n",
       "      <td>5.0</td>\n",
       "      <td>1.38091</td>\n",
       "    </tr>\n",
       "  </tbody>\n",
       "</table>\n",
       "</div>"
      ],
      "text/plain": [
       "         min  25%  50%      mean  75%  max      std\n",
       "ratings  1.0  3.0  5.0  4.012337  5.0  5.0  1.38091"
      ]
     },
     "execution_count": 6,
     "metadata": {},
     "output_type": "execute_result"
    }
   ],
   "source": [
    "pdata.describe().loc[['min','25%','50%','mean','75%','max','std']].T"
   ]
  },
  {
   "cell_type": "markdown",
   "metadata": {},
   "source": [
    "#### <font color='blue'>The following observations can be made from the 5-point summary<br><br><li>Every user in the dataset has rated atleast one product</li><br><li>The minimum and maximum ratings for a product are 1 and 5 respectively</li><br><li>The mean user rating of the products is 4.01 and the standard deviation is 1.38</li><br><li>Q1 : 25% of all ratings are or below 3</li><br><li>Q2: 50% of the data points are or less than 5</li><br><li>Q3: 75% of the data points are or less than 5</font>"
   ]
  },
  {
   "cell_type": "markdown",
   "metadata": {},
   "source": [
    "#### 1.7 Analysis using Distribution Plots "
   ]
  },
  {
   "cell_type": "code",
   "execution_count": 7,
   "metadata": {},
   "outputs": [
    {
     "name": "stdout",
     "output_type": "stream",
     "text": [
      "The number of Unique Users:4201696 and number of unique products:476002 in our ecommerce site\n"
     ]
    }
   ],
   "source": [
    "print(\"The number of Unique Users:{} and number of unique products:{} in our ecommerce site\".format(\n",
    "    len(pdata['userId'].unique()),len(pdata['productId'].unique())))"
   ]
  },
  {
   "cell_type": "markdown",
   "metadata": {},
   "source": [
    "#### <font color='blue'>There are 4201696 unique users and 476002 unique products in the data set. In order to make the data set denser, we will subset it to retain only users who have given 50+ ratings in the following sections</font>"
   ]
  },
  {
   "cell_type": "markdown",
   "metadata": {},
   "source": [
    "#### <font color='blue'>We compute the count for each rating 1.0-5.0 and also the corresponding percentage</font>"
   ]
  },
  {
   "cell_type": "code",
   "execution_count": 8,
   "metadata": {},
   "outputs": [
    {
     "name": "stdout",
     "output_type": "stream",
     "text": [
      "ratings\n",
      "1.0     901765\n",
      "2.0     456322\n",
      "3.0     633073\n",
      "4.0    1485781\n",
      "5.0    4347541\n",
      "Name: ratings, dtype: int64\n",
      "ratings\n",
      "1.0    12.0\n",
      "2.0     6.0\n",
      "3.0     8.0\n",
      "4.0    19.0\n",
      "5.0    56.0\n",
      "Name: ratings, dtype: float64\n",
      "Skewness of data: -1.21\n"
     ]
    },
    {
     "data": {
      "image/png": "[encoded data removed]",
      "text/plain": [
       "<Figure size 720x360 with 1 Axes>"
      ]
     },
     "metadata": {},
     "output_type": "display_data"
    }
   ],
   "source": [
    "# count of each rating\n",
    "rating_groups = pdata.groupby('ratings')['ratings'].count()\n",
    "print(rating_groups)\n",
    "\n",
    "# Percentage of overall dataset\n",
    "print(round(100*rating_groups/pdata['ratings'].count(),0))\n",
    "\n",
    "# Compute skewness\n",
    "print(\"Skewness of data:\",round(pdata['ratings'].skew(),2))\n",
    "\n",
    "# Plot counts\n",
    "plt.figure(figsize=(10,5))\n",
    "sns.histplot(data=rating_groups,x=pdata['ratings'],bins=5,color='darkslateblue');"
   ]
  },
  {
   "cell_type": "code",
   "execution_count": 9,
   "metadata": {},
   "outputs": [
    {
     "data": {
      "text/plain": [
       "<AxesSubplot:xlabel='ratings', ylabel='Density'>"
      ]
     },
     "execution_count": 9,
     "metadata": {},
     "output_type": "execute_result"
    },
    {
     "data": {
      "image/png": "[encoded data removed]",
      "text/plain": [
       "<Figure size 432x288 with 1 Axes>"
      ]
     },
     "metadata": {},
     "output_type": "display_data"
    }
   ],
   "source": [
    "sns.kdeplot(data=rating_groups,x=pdata['ratings'])"
   ]
  },
  {
   "cell_type": "markdown",
   "metadata": {},
   "source": [
    "###### <font color='blue'>The following observations can be made from the distribution plot<br><br><li>56% of the provided ratings are 5.0, indicating that the product is highly liked by the users</li><br><li>If we consider ratings 4.0 and 5.0, 75% of the ratings fall in this set. This reinforces the above point.</li><br><li>About 25% of the ratings are 1.0, 2.0, 3.0</li><br><li>The distribution is multi-modal with distinct peaks at each rating value</li><br><li>The distribution is negatively skewed with a prominent left tail</li></font>"
   ]
  },
  {
   "cell_type": "markdown",
   "metadata": {},
   "source": [
    "#### Finding out the product that received maximum ratings and the user who has rated the maximum number of products"
   ]
  },
  {
   "cell_type": "code",
   "execution_count": 10,
   "metadata": {},
   "outputs": [
    {
     "name": "stdout",
     "output_type": "stream",
     "text": [
      "520 A5JLAU2ARJ0BO\n",
      "18244 B0074BW614\n"
     ]
    }
   ],
   "source": [
    "user_rt=pdata.groupby('userId')['ratings'].count()\n",
    "freq_user=pdata['userId'].value_counts().idxmax()\n",
    "\n",
    "prod_rt=pdata.groupby('productId')['ratings'].count()\n",
    "freq_prod=pdata['productId'].value_counts().idxmax()\n",
    "\n",
    "print(user_rt.max(), freq_user)\n",
    "print(prod_rt.max(), freq_prod)"
   ]
  },
  {
   "cell_type": "markdown",
   "metadata": {},
   "source": [
    "#### <font color='blue'>User \"A5JLAU2ARJ0BO\" has provided 520 ratings, which is the highest across all users. Product \"B0074BW614\" has received 18244 ratings, which is the highest across all rated products</li></font>"
   ]
  },
  {
   "cell_type": "markdown",
   "metadata": {},
   "source": [
    "### 2. Subset the dataset"
   ]
  },
  {
   "cell_type": "markdown",
   "metadata": {},
   "source": [
    "#### <font color='blue'>In this section, we will extract a subset of the dataset that has only users who have provided more than 50 ratings. This reduces the dataset size but has the following advantages<br><br><li>It will <font color='#E74C3C'>reduce computatational complexity</font> of the various recommendation engines that can be used such as Matrix Factorization, Collaborative Filtering, given that the data set is fairly large in size (~300 MB) for a local machine</li><br><li>A recommendation system based on users with more ratings is <font color='#E74C3C'>likely to be more reliable</font>. This is because, the preference of users who rated lesser products may not be representative of their overall preferences</li></font>"
   ]
  },
  {
   "cell_type": "code",
   "execution_count": null,
   "metadata": {},
   "outputs": [],
   "source": [
    "pdata_sub=pdata.join(pdata.groupby('userId')['ratings'].count(),on='userId',rsuffix='_user_count')\n",
    "pdata_sub.head()"
   ]
  },
  {
   "cell_type": "code",
   "execution_count": null,
   "metadata": {},
   "outputs": [],
   "source": [
    "pdata_sub = pdata_sub[pdata_sub['ratings_user_count']>=50]\n",
    "print(\"Shape of the subsetted data:\",pdata.shape)\n",
    "print(\"Shape of the subsetted data:\",pdata_sub.shape)\n",
    "\n",
    "print(\"Total # of rows in the original dataset:\",pdata.shape[0])\n",
    "print(\"# of rows in the subset:\",pdata_sub.shape[0])\n",
    "print(\"% of subsetted rows:\",round(100*pdata_sub.shape[0]/pdata.shape[0],2))"
   ]
  },
  {
   "cell_type": "markdown",
   "metadata": {},
   "source": [
    "#### <font color='blue'>Of the 7824482 data points, 125871 pertain to users who have given rated 50 or more products. This represents about 1.6% of the overall data set. The data set is less sparser and denser, and will provide the advantages mentioned in the notes above</font>"
   ]
  },
  {
   "cell_type": "markdown",
   "metadata": {},
   "source": [
    "#### After subsetting the data, let us look at the rating counts, percentages and count plot."
   ]
  },
  {
   "cell_type": "code",
   "execution_count": null,
   "metadata": {},
   "outputs": [],
   "source": [
    "rating_groups = pdata_sub.groupby('ratings')['ratings'].count()\n",
    "print(rating_groups)\n",
    "\n",
    "print(round(100*rating_groups/pdata_sub['ratings'].count(),0))\n",
    "\n",
    "print(\"Skewness of data:\",round(pdata_sub['ratings'].skew(),2))\n",
    "\n",
    "plt.figure(figsize=(15,10))\n",
    "sns.histplot(data=rating_groups,x=pdata_sub['ratings'],bins=5,color='darkslateblue');"
   ]
  },
  {
   "cell_type": "code",
   "execution_count": null,
   "metadata": {},
   "outputs": [],
   "source": [
    "sns.kdeplot(data=rating_groups,x=pdata_sub['ratings'])"
   ]
  },
  {
   "cell_type": "markdown",
   "metadata": {},
   "source": [
    "#### <font color='blue'>The following observations can be made from the distribution plot of the subsetted data<br><br><li>The distribution remains similar to the original dataset for ratings 4,5</li><br><li>The distributions pertaining to ratings {1,2,3} are different than the full dataset</li><br><li>The left skewness of the dataset increased from -1.21 to -1.56</li><br></font>"
   ]
  },
  {
   "cell_type": "markdown",
   "metadata": {},
   "source": [
    "### 3. Popularity Recommendation Model"
   ]
  },
  {
   "cell_type": "markdown",
   "metadata": {},
   "source": [
    "#### The Popularity based recommendation works by recommending products rated highly by most users. It is not a personalized recommendation and does not suffer from cold-start problem"
   ]
  },
  {
   "cell_type": "code",
   "execution_count": null,
   "metadata": {},
   "outputs": [],
   "source": [
    "#We will add a column called \"ratings_product_count\", that provides the number of ratings given to each product. \n",
    "#This is required to recommend based on product popularity\n",
    "pdata_sub = pdata_sub.join(pdata_sub.groupby('productId')['ratings'].count(),on='productId',rsuffix='_product_count')\n",
    "\n",
    "#Create 2 copies, one each for product-based popularity and user-based popularity\n",
    "pdata_sub_prc = pdata_sub.copy(deep=True)\n",
    "pdata_sub_ur = pdata_sub.copy(deep=True)"
   ]
  },
  {
   "cell_type": "markdown",
   "metadata": {},
   "source": [
    "#### Method 1 : Finding out the popularity based on the number of ratings received by each product in the dataset and listing down the top 10 popular products"
   ]
  },
  {
   "cell_type": "code",
   "execution_count": null,
   "metadata": {},
   "outputs": [],
   "source": [
    "pdata_sub_prc = pdata_sub_prc.groupby('productId')['ratings','ratings_product_count'].mean().sort_values(by='ratings_product_count',ascending=False)\n",
    "pdata_sub_prc.head(10)"
   ]
  },
  {
   "cell_type": "markdown",
   "metadata": {},
   "source": [
    "#### Method 2 : Finding out the popularity based on the the user ratings received by each product in the dataset and listing down the top 10 popular products"
   ]
  },
  {
   "cell_type": "code",
   "execution_count": null,
   "metadata": {},
   "outputs": [],
   "source": [
    "pdata_sub_ur = pdata_sub_ur.groupby('productId')['ratings','ratings_product_count'].mean().sort_values(by='ratings',ascending=False)\n",
    "pdata_sub_ur.head(10)"
   ]
  },
  {
   "cell_type": "markdown",
   "metadata": {},
   "source": [
    "#### <font color='blue'><li>There are 2 methods that can be used to provide popularity-based recommendations - based on # of ratings received by each product and the actual rating received by each product</li><br><li>Method 1 - based on # of ratings received is a better approach , because more ratings for the same product by different users is a good measure of popularity</li></font>"
   ]
  },
  {
   "cell_type": "markdown",
   "metadata": {},
   "source": [
    "#### Creating a Product to Rating matrix for final recommendation"
   ]
  },
  {
   "cell_type": "code",
   "execution_count": null,
   "metadata": {},
   "outputs": [],
   "source": [
    "# For each product, obtain the count of all 5 ratings by unstacking the dataset\n",
    "unstacked = pdata_sub.groupby('productId')['ratings'].value_counts().unstack().fillna(0)\n",
    "\n",
    "# Sort the unstacked dataset in descending order of # of ratings received. Display the split of # of ratings across ratings 1-5.\n",
    "#The top 10 recommnded products are shown below\n",
    "pop_recos = pd.merge(pdata_sub_prc,unstacked,on='productId')\n",
    "pop_recos.nlargest(10,'ratings_product_count')"
   ]
  },
  {
   "cell_type": "markdown",
   "metadata": {},
   "source": [
    "#### Summary of Popularity based recommendation\n",
    "The top 10 products based on the number of ratings received was computed and recommended\n",
    "#### <font color='teal'>Advantages<br><br> 1. The main advantage is the simplicity of the algorithm<br><br>2. Since it does not consider any user related attributes, the model is not impacted by cold-start problem<br><br>3. As the model involves only sorting of the data frame, it is not computationally expensive</font> \n",
    "#### <font color='IndianRed'>Disadvantages<br><br>1. The recommendations are not personalized to users and remain at a generic level</font> "
   ]
  },
  {
   "cell_type": "markdown",
   "metadata": {},
   "source": [
    "### 4. Collaborative Filtering"
   ]
  },
  {
   "cell_type": "markdown",
   "metadata": {},
   "source": [
    "#### <font color='blue'>Collaborative Filtering approaches overcome the disadvantage of Popularty and Content based recommendations. We will make product recommendations using the following models<br><br><li>Matrix Factorization</li><br><li>User-based Collaborative filtering</li><br><li>Product-based Collaborative filtering</li></font>"
   ]
  },
  {
   "cell_type": "markdown",
   "metadata": {},
   "source": [
    "#### <font color='blue'>4.1. Matrix Factorization</font>"
   ]
  },
  {
   "cell_type": "markdown",
   "metadata": {},
   "source": [
    "#### Matrix Factorization is a technique that uses prior ratings provided to products by users in order to predict the ratings that a user may provide for a given product. We will use SVD (Singular Value Decomposition) from Surprise Library to implement this."
   ]
  },
  {
   "cell_type": "code",
   "execution_count": null,
   "metadata": {},
   "outputs": [],
   "source": [
    "reader=Reader(rating_scale=(1.0, 5.0))\n",
    "\n",
    "# Create a matrix from the dataset\n",
    "pdata_mf=Dataset.load_from_df(pdata_sub[['userId','productId','ratings']],reader)\n",
    "\n",
    "#Split the dataset into training and testing sets\n",
    "from surprise.model_selection.split import train_test_split\n",
    "train,test=train_test_split(pdata_mf,test_size=0.3,random_state=42)"
   ]
  },
  {
   "cell_type": "code",
   "execution_count": null,
   "metadata": {},
   "outputs": [],
   "source": [
    "model_mf = SVD()\n",
    "model_mf.fit(train)\n",
    "mf_pred = model_mf.test(test)\n",
    "mf_pred"
   ]
  },
  {
   "cell_type": "code",
   "execution_count": null,
   "metadata": {},
   "outputs": [],
   "source": [
    "from collections import defaultdict\n",
    "def get_top_n(predictions, n=5):\n",
    "    # First map the predictions to each user.\n",
    "    top_n = defaultdict(list)\n",
    "    for uid, iid, true_r, est, _ in predictions:\n",
    "        top_n[uid].append((iid, est))\n",
    "\n",
    "    # Then sort the predictions for each user and retrieve the k highest ones.\n",
    "    for uid, user_ratings in top_n.items():\n",
    "        user_ratings.sort(key=lambda x: x[1], reverse=True)\n",
    "        top_n[uid] = user_ratings[:n]\n",
    "\n",
    "    return top_n"
   ]
  },
  {
   "cell_type": "markdown",
   "metadata": {},
   "source": [
    "The above function is called in the Summary section to display the top 5 recommended products for Popularity based model"
   ]
  },
  {
   "cell_type": "markdown",
   "metadata": {},
   "source": [
    "#### Evaluating the model"
   ]
  },
  {
   "cell_type": "code",
   "execution_count": null,
   "metadata": {},
   "outputs": [],
   "source": [
    "print(\"RMSE: \",round(accuracy.rmse(mf_pred,verbose=False),2))\n",
    "print(\"MAE: \",round(accuracy.mae(mf_pred,verbose=False),2))"
   ]
  },
  {
   "cell_type": "markdown",
   "metadata": {},
   "source": [
    "#### <font color='blue'>For user-based and product-based collaborative filtering approaches, we will use K-Nearest Neighbours method of making recommendations based on the preferences of the nearest similar users or products. This is implemented using the functon KNNWithMeans. Similarity between users (or products) is calculated for each user (or product) based on distance - which can either be Cosine Similiarity or Pearson Correlation</font>"
   ]
  },
  {
   "cell_type": "markdown",
   "metadata": {},
   "source": [
    "#### <font color='blue'>4.2. User-based Collaborative Filtering</font>"
   ]
  },
  {
   "cell_type": "markdown",
   "metadata": {},
   "source": [
    "In this approach, product recommendations are provided to a <font color='#D35400'>given user</font> based on his/her <i>similarity</i> with neighbours in the cluster. Similarity is established either through cosine similarity or pearson correlation coefficient. In this exercise, we will use Cosine Similarity "
   ]
  },
  {
   "cell_type": "code",
   "execution_count": null,
   "metadata": {},
   "outputs": [],
   "source": [
    "# Before loading the dataset, we are trimming it to 50000. \n",
    "# Using values of more than this resulted in memory issues in my local machine and hence limiting it to 50000\n",
    "pdata_sub = pdata_sub.head(50000)\n",
    "pdata_cf=Dataset.load_from_df(pdata_sub[['userId','productId','ratings']],reader)\n",
    "\n",
    "# Split the data into train/test\n",
    "train,test =train_test_split(pdata_cf,test_size=0.3, random_state=42)"
   ]
  },
  {
   "cell_type": "markdown",
   "metadata": {},
   "source": [
    "#### <font color='blue'>Based on GridSearch performed in Section 9, we have chosen <font color='#9B59B6'>K=50</font> and <font color='#9B59B6'>Cosine Similarity</font> as the distance measure</font>\n",
    "\n",
    "Note : K comes out as 40 or 50 in different runs of GridSearch."
   ]
  },
  {
   "cell_type": "code",
   "execution_count": null,
   "metadata": {},
   "outputs": [],
   "source": [
    "cf_k = 50\n",
    "model_ubcf = KNNWithMeans(k=cf_k,sim_options={'name': 'cosine', 'min_support': 5, 'user_based': True,'k':5},verbose= True,c=3)\n",
    "model_ubcf.fit(train)\n",
    "pred_ubcf=model_ubcf.test(test)\n",
    "pred_ubcf"
   ]
  },
  {
   "cell_type": "markdown",
   "metadata": {},
   "source": [
    "#### Evaluating the model"
   ]
  },
  {
   "cell_type": "code",
   "execution_count": null,
   "metadata": {},
   "outputs": [],
   "source": [
    "print(\"RMSE:\",round(accuracy.rmse(pred_ubcf,verbose=False),2))\n",
    "print(\"MAE:\",round(accuracy.mae(pred_ubcf,verbose=False),2))"
   ]
  },
  {
   "cell_type": "markdown",
   "metadata": {},
   "source": [
    "#### 4.3. Product-based Collaborative Filtering"
   ]
  },
  {
   "cell_type": "markdown",
   "metadata": {},
   "source": [
    "In this approach, recommendations are provided to a user based on how similar the <font color='#D35400'><i>given product</i></font> is with its product neighbours within the cluster. Similarity is established either through cosine similarity or pearson correlation coefficient. In this exercise, we will use Cosine Similarity.\n",
    "\n",
    "From an implementation perspective, it is similar to user-based collaborative filtering - except that we set the parameter <font color='#D35400'><i>user-based: False</i></font>"
   ]
  },
  {
   "cell_type": "code",
   "execution_count": null,
   "metadata": {},
   "outputs": [],
   "source": [
    "model_pbcf = KNNWithMeans(k=cf_k,sim_options={'name': 'cosine', 'min_support': 5, 'user_based': False,'k':5},verbose= True,c=3)\n",
    "model_pbcf.fit(train)\n",
    "pred_pbcf=model_pbcf.test(test)\n",
    "pred_pbcf"
   ]
  },
  {
   "cell_type": "markdown",
   "metadata": {},
   "source": [
    "#### Evaluating the model"
   ]
  },
  {
   "cell_type": "code",
   "execution_count": null,
   "metadata": {},
   "outputs": [],
   "source": [
    "print(\"RMSE:\",round(accuracy.rmse(pred_pbcf,verbose=False),2))\n",
    "print(\"MAE:\",round(accuracy.mae(pred_pbcf,verbose=False),2))"
   ]
  },
  {
   "cell_type": "markdown",
   "metadata": {},
   "source": [
    "### 5. Summary"
   ]
  },
  {
   "cell_type": "markdown",
   "metadata": {},
   "source": [
    "#### 5.1. Popularity based recommendation - Top 5 Recommendations"
   ]
  },
  {
   "cell_type": "code",
   "execution_count": null,
   "metadata": {},
   "outputs": [],
   "source": [
    "pop_recos.nlargest(5,'ratings_product_count')"
   ]
  },
  {
   "cell_type": "markdown",
   "metadata": {},
   "source": [
    "#### 5.2 Matrix Factorization - Top 5 Recommendations"
   ]
  },
  {
   "cell_type": "code",
   "execution_count": null,
   "metadata": {},
   "outputs": [],
   "source": [
    "top_n = top_n = get_top_n(mf_pred,n=5)\n",
    "top_n"
   ]
  },
  {
   "cell_type": "markdown",
   "metadata": {},
   "source": [
    "#### 5.3. User-based Collaborative Filtering - Top 5 Recommendations"
   ]
  },
  {
   "cell_type": "code",
   "execution_count": null,
   "metadata": {},
   "outputs": [],
   "source": [
    "def get_top_user(pred,n=5):\n",
    "  top_n=defaultdict(list)\n",
    "  for uid,iid,true_r,est,_ in pred:\n",
    "    top_n[uid].append((iid,est))\n",
    "  for uid,user_ratings in top_n.items():\n",
    "    user_ratings.sort(key=lambda x: x[1],reverse=True)\n",
    "    top_n[uid]=user_ratings[:n]\n",
    "  return top_n\n",
    "\n",
    "top_users=get_top_user(pred_ubcf,n=5)\n",
    "\n",
    "# For each user Print the recommended items\n",
    "for uid, user_ratings in top_users.items():\n",
    "    print(uid, [iid for (iid, _) in user_ratings])\n"
   ]
  },
  {
   "cell_type": "markdown",
   "metadata": {},
   "source": [
    "#### 5.4. Product-based Collaborative Filtering - Top 5 Recommendations"
   ]
  },
  {
   "cell_type": "code",
   "execution_count": null,
   "metadata": {},
   "outputs": [],
   "source": [
    "def get_top_product(pred,n=5):\n",
    "  top_n=defaultdict(list)\n",
    "  for uid,iid,true_r,est,_ in pred:\n",
    "    top_n[uid].append((iid,est))\n",
    "  for uid,user_ratings in top_n.items():\n",
    "    user_ratings.sort(key=lambda x: x[1],reverse=True)\n",
    "    top_n[uid]=user_ratings[:n]\n",
    "  return top_n\n",
    "\n",
    "top_items=get_top_product(pred_pbcf)\n",
    "\n",
    "# For each user Print the recommended items\n",
    "df_item=pd.DataFrame()\n",
    "for uid, user_ratings in top_items.items():\n",
    "    print(uid, [iid for (iid, _) in user_ratings])"
   ]
  },
  {
   "cell_type": "markdown",
   "metadata": {},
   "source": [
    "#### 5.5. Performance comparison"
   ]
  },
  {
   "cell_type": "markdown",
   "metadata": {},
   "source": [
    "<table style=\"width:70%\">\n",
    "  <tr>\n",
    "    <th/>  \n",
    "    <th>Root Mean Square Error (RMSE)</th>\n",
    "    <th>Mean Absolute Error (MAE)</th>\n",
    "  </tr>\n",
    "  <tr>\n",
    "    <th>Matrix Factorization</th>\n",
    "    <td>0.99</td>\n",
    "    <td>0.73</td>\n",
    "  </tr>  \n",
    "  <tr>  \n",
    "    <th>User-based CF</th>\n",
    "    <td>1.09</td>\n",
    "    <td>0.82</td>\n",
    "  </tr>\n",
    "  <tr>\n",
    "    <th>Product-based CF</th>\n",
    "    <td>1.2</td>\n",
    "    <td>0.85</td>\n",
    "</tr>\n",
    "</table>"
   ]
  },
  {
   "cell_type": "markdown",
   "metadata": {},
   "source": [
    "#### <font color=\"#21618C\">The Recommender Systems that are implemented : Popularity-based, Matrix Factorization, User-based Collaborative Filtering, Proudct-based Collaborative Filtering<br><br><li><font color='#D35400'><u>Popularity-based model</u></font> was useful in recommending products that have received many ratings from different users. However, it does not provide personalized recommendations to user based on their product preferences. </li><br><li><font color='#D35400'><u>Matrix Factorization</u></font> considers the past ratings of a user in order to recommend ratings for unrated products. This is done using SVD, where the ratings are decomposed into a set of user and product characteristics</li><br><li><font color='#D35400'><u>User-based Collaborative filtering</u></font> identifies a set of users who have similar product preferences and recommends products that were rated by such users. An appropriate distance measure such as Cosine Similarity is used</li><br><li><font color='#D35400'><u>Product-based Collaborative Filtering</u></font> works much the same way as user-based collaborative filtering, with the difference that similarity of products is considered</li><br><li><font color='#D35400'><u>Evaluation of model performance</u></font> is performed and a comparison chart is provided. Every model has its own pros and cons</li><br>In the inital stages where user preferences are unknown, we can use popularity based recommenders. As more data is gathered through user/product ratings, collaborative filtering recommenders become effective. CF recommenders cannot be used in the initial stages as user preferences are unknown (cold start problem). Also, for users who have special tastes and do not conform with a  majority of users, collaborative filtering systems cannot be effective (gray sheep problem). While popularity recommenders are simple and computationally inexpensive, CF models are complex and require more computational power</font>"
   ]
  },
  {
   "cell_type": "markdown",
   "metadata": {},
   "source": [
    "### 6. GridSearch for KNNWithMeans"
   ]
  },
  {
   "cell_type": "markdown",
   "metadata": {},
   "source": [
    "#### We are using GridSearch to find the best value of K and the best distaance measure to be used. This is an optional step and we could have decided on a default value of K (usually 40) and one of the distance measures (default cosine similarity)"
   ]
  },
  {
   "cell_type": "code",
   "execution_count": null,
   "metadata": {},
   "outputs": [],
   "source": [
    "data_cf = Dataset.load_from_df(pdata_sub[['userId','productId','ratings']],reader)\n",
    "\n",
    "param_grid={'k':[40,50,60,70],'name':[\"cosine\",\"pearson_baseline\"],'user_based':[True,False]}\n",
    "grid = GridSearchCV(KNNWithMeans,param_grid,measures=[\"rmse\", \"mae\"],cv=3)\n",
    "grid.fit(data_cf)\n",
    "\n",
    "print(grid.best_params['rmse'])\n",
    "print(grid.best_score)"
   ]
  },
  {
   "cell_type": "code",
   "execution_count": null,
   "metadata": {},
   "outputs": [],
   "source": []
  }
 ],
 "metadata": {
  "kernelspec": {
   "display_name": "Python 3",
   "language": "python",
   "name": "python3"
  },
  "language_info": {
   "codemirror_mode": {
    "name": "ipython",
    "version": 3
   },
   "file_extension": ".py",
   "mimetype": "text/x-python",
   "name": "python",
   "nbconvert_exporter": "python",
   "pygments_lexer": "ipython3",
   "version": "3.6.12"
  }
 },
 "nbformat": 4,
 "nbformat_minor": 4
}
