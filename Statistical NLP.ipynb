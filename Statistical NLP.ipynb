{
  "nbformat": 4,
  "nbformat_minor": 0,
  "metadata": {
    "colab": {
      "name": "Statistical NLP",
      "provenance": [],
      "collapsed_sections": [
        "2UQCka3VSaRq"
      ]
    },
    "kernelspec": {
      "name": "python3",
      "display_name": "Python 3"
    },
    "language_info": {
      "name": "python"
    }
  },
  "cells": [
    {
      "cell_type": "markdown",
      "metadata": {
        "id": "UH_ODzuqpW1Y"
      },
      "source": [
        "### Notes\n",
        "\n",
        "\n",
        "\n",
        "1. This notebook was entirely built and tested using Google Colab\n",
        "2. Data \n",
        "\n",
        "   a. Part 1 - The data set blogtext.csv is provided with the assignment. Since the data is too large to be processed, we use only a subset of the data provided to train the models\n",
        "   \n",
        "   b. Part 2 - A .JSON file with the Q & A corpus has been provided. We have enhanced it by adding two more intents (Computer Vision, Natural Language Processing) and by adding more questions to existing intents\n",
        "3. Running this notebook will require the user to involve in a conversation with the chat bot in Part 2 of the assignment\n",
        "4. The user needs to mount the Google drive where training data set and chat bot corpus are stored"
      ]
    },
    {
      "cell_type": "code",
      "metadata": {
        "id": "2mJDGJeHMWJ2",
        "colab": {
          "base_uri": "https://localhost:8080/"
        },
        "outputId": "71f8ea49-dcc6-4242-d08d-df37cebddd2e"
      },
      "source": [
        "from google.colab import drive, files\n",
        "\n",
        "import pandas as pd\n",
        "import numpy as np\n",
        "import matplotlib.pyplot as plt # matplotlib.pyplot plots data\n",
        "%matplotlib inline \n",
        "import seaborn as sns\n",
        "sns.set(color_codes=True)\n",
        "\n",
        "import re, random, json\n",
        "\n",
        "import nltk\n",
        "from nltk.corpus import stopwords\n",
        "from nltk.stem import PorterStemmer\n",
        "\n",
        "\n",
        "from sklearn.feature_extraction.text import CountVectorizer\n",
        "from sklearn.model_selection import train_test_split\n",
        "from sklearn.preprocessing import MultiLabelBinarizer\n",
        "from sklearn.multiclass import OneVsRestClassifier\n",
        "from sklearn.linear_model import LogisticRegression \n",
        "from sklearn.naive_bayes import GaussianNB\n",
        "from sklearn.svm import SVC\n",
        "from sklearn.neighbors import KNeighborsClassifier\n",
        "\n",
        "from sklearn.metrics import accuracy_score, f1_score, average_precision_score, recall_score\n",
        "\n",
        "import tensorflow as tf\n",
        "!pip install tflearn\n",
        "from tensorflow import keras\n",
        "from keras.models import Sequential\n",
        "from keras.layers import Dense, Dropout\n",
        "\n",
        "import warnings\n",
        "warnings.filterwarnings('ignore')"
      ],
      "execution_count": 1,
      "outputs": [
        {
          "output_type": "stream",
          "text": [
            "Collecting tflearn\n",
            "\u001b[?25l  Downloading https://files.pythonhosted.org/packages/e7/3c/0b156d08ef3d4e2a8009ecab2af1ad2e304f6fb99562b6271c68a74a4397/tflearn-0.5.0.tar.gz (107kB)\n",
            "\r\u001b[K     |███                             | 10kB 11.9MB/s eta 0:00:01\r\u001b[K     |██████                          | 20kB 17.7MB/s eta 0:00:01\r\u001b[K     |█████████▏                      | 30kB 21.8MB/s eta 0:00:01\r\u001b[K     |████████████▏                   | 40kB 24.6MB/s eta 0:00:01\r\u001b[K     |███████████████▎                | 51kB 26.6MB/s eta 0:00:01\r\u001b[K     |██████████████████▎             | 61kB 18.7MB/s eta 0:00:01\r\u001b[K     |█████████████████████▍          | 71kB 19.1MB/s eta 0:00:01\r\u001b[K     |████████████████████████▍       | 81kB 15.4MB/s eta 0:00:01\r\u001b[K     |███████████████████████████▌    | 92kB 15.8MB/s eta 0:00:01\r\u001b[K     |██████████████████████████████▌ | 102kB 16.5MB/s eta 0:00:01\r\u001b[K     |████████████████████████████████| 112kB 16.5MB/s \n",
            "\u001b[?25hRequirement already satisfied: numpy in /usr/local/lib/python3.7/dist-packages (from tflearn) (1.19.5)\n",
            "Requirement already satisfied: six in /usr/local/lib/python3.7/dist-packages (from tflearn) (1.15.0)\n",
            "Requirement already satisfied: Pillow in /usr/local/lib/python3.7/dist-packages (from tflearn) (7.1.2)\n",
            "Building wheels for collected packages: tflearn\n",
            "  Building wheel for tflearn (setup.py) ... \u001b[?25l\u001b[?25hdone\n",
            "  Created wheel for tflearn: filename=tflearn-0.5.0-cp37-none-any.whl size=127301 sha256=f262bf5053c6132281941cfa7f4aca62301557ec2415e2976921350c0891ab8c\n",
            "  Stored in directory: /root/.cache/pip/wheels/31/d2/ed/fb9a0d301dd9586c11e9547120278e624227f22fd5f4baf744\n",
            "Successfully built tflearn\n",
            "Installing collected packages: tflearn\n",
            "Successfully installed tflearn-0.5.0\n"
          ],
          "name": "stdout"
        }
      ]
    },
    {
      "cell_type": "code",
      "metadata": {
        "id": "EDUT6bEE6jBi",
        "colab": {
          "base_uri": "https://localhost:8080/"
        },
        "outputId": "9bfeecc3-f468-488d-f3cc-3b402a8937da"
      },
      "source": [
        "drive.mount('/content/drive',force_remount=True)"
      ],
      "execution_count": 2,
      "outputs": [
        {
          "output_type": "stream",
          "text": [
            "Mounted at /content/drive\n"
          ],
          "name": "stdout"
        }
      ]
    },
    {
      "cell_type": "markdown",
      "metadata": {
        "id": "1GD0kk5H2wYL"
      },
      "source": [
        "## Part 1 - Digital Content Management"
      ]
    },
    {
      "cell_type": "markdown",
      "metadata": {
        "id": "P_nKfZUy2_pc"
      },
      "source": [
        "The objective of this part of the assignment is to create a classifier to predict different attributes of creators of content such as blogs and articles\n",
        "\n",
        "The corpus consists a total of 681,288 posts 140 million+ words - approximately 35 posts and 7250 words per person"
      ]
    },
    {
      "cell_type": "markdown",
      "metadata": {
        "id": "iWSRKSsr5C5F"
      },
      "source": [
        "Load the data set. \n",
        "\n",
        "The data set is large and hence processing all records leads to memory issues. Hence we will read only the first 15000 rows and use them for training "
      ]
    },
    {
      "cell_type": "code",
      "metadata": {
        "id": "LokkWNWfOO7c"
      },
      "source": [
        "path = \"/content/drive/MyDrive/Colab Notebooks/Assignments/Statistical NLP/blogtext.csv\"\n",
        "blog_df = pd.read_csv(path,nrows=15000)"
      ],
      "execution_count": 3,
      "outputs": []
    },
    {
      "cell_type": "code",
      "metadata": {
        "colab": {
          "base_uri": "https://localhost:8080/",
          "height": 360
        },
        "id": "Lp2zyUyqN30_",
        "outputId": "88e52666-017d-43c5-beef-f3bdaedd00a3"
      },
      "source": [
        "print(\"Shape of the data set is \",blog_df.shape)\n",
        "blog_df.head(10)"
      ],
      "execution_count": 4,
      "outputs": [
        {
          "output_type": "stream",
          "text": [
            "Shape of the data set is  (15000, 7)\n"
          ],
          "name": "stdout"
        },
        {
          "output_type": "execute_result",
          "data": {
            "text/html": [
              "<div>\n",
              "<style scoped>\n",
              "    .dataframe tbody tr th:only-of-type {\n",
              "        vertical-align: middle;\n",
              "    }\n",
              "\n",
              "    .dataframe tbody tr th {\n",
              "        vertical-align: top;\n",
              "    }\n",
              "\n",
              "    .dataframe thead th {\n",
              "        text-align: right;\n",
              "    }\n",
              "</style>\n",
              "<table border=\"1\" class=\"dataframe\">\n",
              "  <thead>\n",
              "    <tr style=\"text-align: right;\">\n",
              "      <th></th>\n",
              "      <th>id</th>\n",
              "      <th>gender</th>\n",
              "      <th>age</th>\n",
              "      <th>topic</th>\n",
              "      <th>sign</th>\n",
              "      <th>date</th>\n",
              "      <th>text</th>\n",
              "    </tr>\n",
              "  </thead>\n",
              "  <tbody>\n",
              "    <tr>\n",
              "      <th>0</th>\n",
              "      <td>2059027</td>\n",
              "      <td>male</td>\n",
              "      <td>15</td>\n",
              "      <td>Student</td>\n",
              "      <td>Leo</td>\n",
              "      <td>14,May,2004</td>\n",
              "      <td>Info has been found (+/- 100 pages,...</td>\n",
              "    </tr>\n",
              "    <tr>\n",
              "      <th>1</th>\n",
              "      <td>2059027</td>\n",
              "      <td>male</td>\n",
              "      <td>15</td>\n",
              "      <td>Student</td>\n",
              "      <td>Leo</td>\n",
              "      <td>13,May,2004</td>\n",
              "      <td>These are the team members:   Drewe...</td>\n",
              "    </tr>\n",
              "    <tr>\n",
              "      <th>2</th>\n",
              "      <td>2059027</td>\n",
              "      <td>male</td>\n",
              "      <td>15</td>\n",
              "      <td>Student</td>\n",
              "      <td>Leo</td>\n",
              "      <td>12,May,2004</td>\n",
              "      <td>In het kader van kernfusie op aarde...</td>\n",
              "    </tr>\n",
              "    <tr>\n",
              "      <th>3</th>\n",
              "      <td>2059027</td>\n",
              "      <td>male</td>\n",
              "      <td>15</td>\n",
              "      <td>Student</td>\n",
              "      <td>Leo</td>\n",
              "      <td>12,May,2004</td>\n",
              "      <td>testing!!!  testing!!!</td>\n",
              "    </tr>\n",
              "    <tr>\n",
              "      <th>4</th>\n",
              "      <td>3581210</td>\n",
              "      <td>male</td>\n",
              "      <td>33</td>\n",
              "      <td>InvestmentBanking</td>\n",
              "      <td>Aquarius</td>\n",
              "      <td>11,June,2004</td>\n",
              "      <td>Thanks to Yahoo!'s Toolbar I can ...</td>\n",
              "    </tr>\n",
              "    <tr>\n",
              "      <th>5</th>\n",
              "      <td>3581210</td>\n",
              "      <td>male</td>\n",
              "      <td>33</td>\n",
              "      <td>InvestmentBanking</td>\n",
              "      <td>Aquarius</td>\n",
              "      <td>10,June,2004</td>\n",
              "      <td>I had an interesting conversation...</td>\n",
              "    </tr>\n",
              "    <tr>\n",
              "      <th>6</th>\n",
              "      <td>3581210</td>\n",
              "      <td>male</td>\n",
              "      <td>33</td>\n",
              "      <td>InvestmentBanking</td>\n",
              "      <td>Aquarius</td>\n",
              "      <td>10,June,2004</td>\n",
              "      <td>Somehow Coca-Cola has a way of su...</td>\n",
              "    </tr>\n",
              "    <tr>\n",
              "      <th>7</th>\n",
              "      <td>3581210</td>\n",
              "      <td>male</td>\n",
              "      <td>33</td>\n",
              "      <td>InvestmentBanking</td>\n",
              "      <td>Aquarius</td>\n",
              "      <td>10,June,2004</td>\n",
              "      <td>If anything, Korea is a country o...</td>\n",
              "    </tr>\n",
              "    <tr>\n",
              "      <th>8</th>\n",
              "      <td>3581210</td>\n",
              "      <td>male</td>\n",
              "      <td>33</td>\n",
              "      <td>InvestmentBanking</td>\n",
              "      <td>Aquarius</td>\n",
              "      <td>10,June,2004</td>\n",
              "      <td>Take a read of this news article ...</td>\n",
              "    </tr>\n",
              "    <tr>\n",
              "      <th>9</th>\n",
              "      <td>3581210</td>\n",
              "      <td>male</td>\n",
              "      <td>33</td>\n",
              "      <td>InvestmentBanking</td>\n",
              "      <td>Aquarius</td>\n",
              "      <td>09,June,2004</td>\n",
              "      <td>I surf the English news sites a l...</td>\n",
              "    </tr>\n",
              "  </tbody>\n",
              "</table>\n",
              "</div>"
            ],
            "text/plain": [
              "        id  ...                                               text\n",
              "0  2059027  ...             Info has been found (+/- 100 pages,...\n",
              "1  2059027  ...             These are the team members:   Drewe...\n",
              "2  2059027  ...             In het kader van kernfusie op aarde...\n",
              "3  2059027  ...                   testing!!!  testing!!!          \n",
              "4  3581210  ...               Thanks to Yahoo!'s Toolbar I can ...\n",
              "5  3581210  ...               I had an interesting conversation...\n",
              "6  3581210  ...               Somehow Coca-Cola has a way of su...\n",
              "7  3581210  ...               If anything, Korea is a country o...\n",
              "8  3581210  ...               Take a read of this news article ...\n",
              "9  3581210  ...               I surf the English news sites a l...\n",
              "\n",
              "[10 rows x 7 columns]"
            ]
          },
          "metadata": {
            "tags": []
          },
          "execution_count": 4
        }
      ]
    },
    {
      "cell_type": "markdown",
      "metadata": {
        "id": "HpPDYosITom1"
      },
      "source": [
        "Each row has an Id, Gender (Male/Female), Age, Topic (profession), sign (Zodiac sign), date and text (blog/article content)\n",
        "\n",
        "We need to predict gender, sign and topic for a given author after training the data set"
      ]
    },
    {
      "cell_type": "code",
      "metadata": {
        "colab": {
          "base_uri": "https://localhost:8080/"
        },
        "id": "QB81DQj4O6PQ",
        "outputId": "704a3fc5-8c02-49a0-bcec-fd19068a9143"
      },
      "source": [
        "blog_df.info()"
      ],
      "execution_count": 5,
      "outputs": [
        {
          "output_type": "stream",
          "text": [
            "<class 'pandas.core.frame.DataFrame'>\n",
            "RangeIndex: 15000 entries, 0 to 14999\n",
            "Data columns (total 7 columns):\n",
            " #   Column  Non-Null Count  Dtype \n",
            "---  ------  --------------  ----- \n",
            " 0   id      15000 non-null  int64 \n",
            " 1   gender  15000 non-null  object\n",
            " 2   age     15000 non-null  int64 \n",
            " 3   topic   15000 non-null  object\n",
            " 4   sign    15000 non-null  object\n",
            " 5   date    15000 non-null  object\n",
            " 6   text    15000 non-null  object\n",
            "dtypes: int64(2), object(5)\n",
            "memory usage: 820.4+ KB\n"
          ],
          "name": "stdout"
        }
      ]
    },
    {
      "cell_type": "markdown",
      "metadata": {
        "id": "lx-6J0Xk6Nkd"
      },
      "source": [
        "Check for missing values in the data set and if required, treat them"
      ]
    },
    {
      "cell_type": "code",
      "metadata": {
        "colab": {
          "base_uri": "https://localhost:8080/"
        },
        "id": "IwQausFfRl7H",
        "outputId": "f3908abe-008a-408c-edcf-860803fa2bc5"
      },
      "source": [
        "n_missingvalues=blog_df.isnull().values.sum()\n",
        "if (n_missingvalues==0):\n",
        "    print (\"There are no missing values in the data\")\n",
        "else:\n",
        "    print (\"There are\",n_missingvalues,\"missing values in the data\")"
      ],
      "execution_count": 6,
      "outputs": [
        {
          "output_type": "stream",
          "text": [
            "There are no missing values in the data\n"
          ],
          "name": "stdout"
        }
      ]
    },
    {
      "cell_type": "markdown",
      "metadata": {
        "id": "Ow1zRhA-6gn2"
      },
      "source": [
        "Check the 5-point summary of numberal attributes for the data set"
      ]
    },
    {
      "cell_type": "code",
      "metadata": {
        "colab": {
          "base_uri": "https://localhost:8080/",
          "height": 106
        },
        "id": "fB9a7uQXRvNq",
        "outputId": "3c5e1c20-bbba-4f62-f19c-2e425cc75eb5"
      },
      "source": [
        "blog_df.describe().loc[['min','25%','50%','mean','75%','max']].T"
      ],
      "execution_count": 7,
      "outputs": [
        {
          "output_type": "execute_result",
          "data": {
            "text/html": [
              "<div>\n",
              "<style scoped>\n",
              "    .dataframe tbody tr th:only-of-type {\n",
              "        vertical-align: middle;\n",
              "    }\n",
              "\n",
              "    .dataframe tbody tr th {\n",
              "        vertical-align: top;\n",
              "    }\n",
              "\n",
              "    .dataframe thead th {\n",
              "        text-align: right;\n",
              "    }\n",
              "</style>\n",
              "<table border=\"1\" class=\"dataframe\">\n",
              "  <thead>\n",
              "    <tr style=\"text-align: right;\">\n",
              "      <th></th>\n",
              "      <th>min</th>\n",
              "      <th>25%</th>\n",
              "      <th>50%</th>\n",
              "      <th>mean</th>\n",
              "      <th>75%</th>\n",
              "      <th>max</th>\n",
              "    </tr>\n",
              "  </thead>\n",
              "  <tbody>\n",
              "    <tr>\n",
              "      <th>id</th>\n",
              "      <td>23191.0</td>\n",
              "      <td>766556.0</td>\n",
              "      <td>1472026.0</td>\n",
              "      <td>1.971748e+06</td>\n",
              "      <td>3343504.0</td>\n",
              "      <td>4321739.0</td>\n",
              "    </tr>\n",
              "    <tr>\n",
              "      <th>age</th>\n",
              "      <td>13.0</td>\n",
              "      <td>23.0</td>\n",
              "      <td>26.0</td>\n",
              "      <td>2.670413e+01</td>\n",
              "      <td>35.0</td>\n",
              "      <td>47.0</td>\n",
              "    </tr>\n",
              "  </tbody>\n",
              "</table>\n",
              "</div>"
            ],
            "text/plain": [
              "         min       25%        50%          mean        75%        max\n",
              "id   23191.0  766556.0  1472026.0  1.971748e+06  3343504.0  4321739.0\n",
              "age     13.0      23.0       26.0  2.670413e+01       35.0       47.0"
            ]
          },
          "metadata": {
            "tags": []
          },
          "execution_count": 7
        }
      ]
    },
    {
      "cell_type": "markdown",
      "metadata": {
        "id": "eZc8QXgS6o8s"
      },
      "source": [
        "Check the gender distribution. There are 8550 male (~57%) and 6450 female (~43%) authors in the data set"
      ]
    },
    {
      "cell_type": "code",
      "metadata": {
        "colab": {
          "base_uri": "https://localhost:8080/"
        },
        "id": "MDN7TOXwP6xg",
        "outputId": "f8ce7b33-727e-4547-c9bd-18397a59c6ed"
      },
      "source": [
        "blog_df.gender.value_counts()"
      ],
      "execution_count": 8,
      "outputs": [
        {
          "output_type": "execute_result",
          "data": {
            "text/plain": [
              "male      8550\n",
              "female    6450\n",
              "Name: gender, dtype: int64"
            ]
          },
          "metadata": {
            "tags": []
          },
          "execution_count": 8
        }
      ]
    },
    {
      "cell_type": "markdown",
      "metadata": {
        "id": "ET-YbBoX6yi-"
      },
      "source": [
        "Plot the number of male and female authors"
      ]
    },
    {
      "cell_type": "code",
      "metadata": {
        "colab": {
          "base_uri": "https://localhost:8080/",
          "height": 302
        },
        "id": "e_QBpeg9QMia",
        "outputId": "6426ccef-6a68-45f2-9cbf-54245bf2904d"
      },
      "source": [
        "sns.countplot(x='gender',data=blog_df)"
      ],
      "execution_count": 9,
      "outputs": [
        {
          "output_type": "execute_result",
          "data": {
            "text/plain": [
              "<matplotlib.axes._subplots.AxesSubplot at 0x7feaac767450>"
            ]
          },
          "metadata": {
            "tags": []
          },
          "execution_count": 9
        },
        {
          "output_type": "display_data",
          "data": {
            "image/png": "[encoded data removed]",
            "text/plain": [
              "<Figure size 432x288 with 1 Axes>"
            ]
          },
          "metadata": {
            "tags": [],
            "needs_background": "light"
          }
        }
      ]
    },
    {
      "cell_type": "markdown",
      "metadata": {
        "id": "sYAOi5GK67-E"
      },
      "source": [
        "Plot the count of authors based on the Zodiac sign"
      ]
    },
    {
      "cell_type": "code",
      "metadata": {
        "colab": {
          "base_uri": "https://localhost:8080/",
          "height": 302
        },
        "id": "5kE3jBX3SVkm",
        "outputId": "bc08682a-7290-4946-9009-490d9a6fc706"
      },
      "source": [
        "sns.countplot(x='sign',data=blog_df)"
      ],
      "execution_count": 10,
      "outputs": [
        {
          "output_type": "execute_result",
          "data": {
            "text/plain": [
              "<matplotlib.axes._subplots.AxesSubplot at 0x7feaac68d9d0>"
            ]
          },
          "metadata": {
            "tags": []
          },
          "execution_count": 10
        },
        {
          "output_type": "display_data",
          "data": {
            "image/png": "[encoded data removed]",
            "text/plain": [
              "<Figure size 432x288 with 1 Axes>"
            ]
          },
          "metadata": {
            "tags": [],
            "needs_background": "light"
          }
        }
      ]
    },
    {
      "cell_type": "markdown",
      "metadata": {
        "id": "W4ct7zB6UcAM"
      },
      "source": [
        "Almost all Zodiac signs have equal distribution except Gemini"
      ]
    },
    {
      "cell_type": "markdown",
      "metadata": {
        "id": "ERTfE0EF7iUR"
      },
      "source": [
        "Plot the count of authors by age"
      ]
    },
    {
      "cell_type": "code",
      "metadata": {
        "colab": {
          "base_uri": "https://localhost:8080/",
          "height": 302
        },
        "id": "LJ04TUliTEoO",
        "outputId": "7997b011-d319-4f8b-bcef-1a60e33f4874"
      },
      "source": [
        "sns.histplot(data=blog_df,x='age',bins=5,color='orange')"
      ],
      "execution_count": 11,
      "outputs": [
        {
          "output_type": "execute_result",
          "data": {
            "text/plain": [
              "<matplotlib.axes._subplots.AxesSubplot at 0x7feaac218a50>"
            ]
          },
          "metadata": {
            "tags": []
          },
          "execution_count": 11
        },
        {
          "output_type": "display_data",
          "data": {
            "image/png": "[encoded data removed]",
            "text/plain": [
              "<Figure size 432x288 with 1 Axes>"
            ]
          },
          "metadata": {
            "tags": [],
            "needs_background": "light"
          }
        }
      ]
    },
    {
      "cell_type": "markdown",
      "metadata": {
        "id": "p4WrC5cH7pxv"
      },
      "source": [
        "Remove characters that are not alphanumeric using RegEx"
      ]
    },
    {
      "cell_type": "code",
      "metadata": {
        "id": "nyY706i-Tc5k"
      },
      "source": [
        "pattern = \"[^\\w ]\"\n",
        "blog_df.text = blog_df.text.apply(lambda s : re.sub(pattern,\"\",s))"
      ],
      "execution_count": 12,
      "outputs": []
    },
    {
      "cell_type": "code",
      "metadata": {
        "colab": {
          "base_uri": "https://localhost:8080/",
          "height": 343
        },
        "id": "Kd6mdhzZVaSM",
        "outputId": "fc29be9d-bc22-4e26-a87f-af4f1e5a179c"
      },
      "source": [
        "blog_df.head(10)"
      ],
      "execution_count": 13,
      "outputs": [
        {
          "output_type": "execute_result",
          "data": {
            "text/html": [
              "<div>\n",
              "<style scoped>\n",
              "    .dataframe tbody tr th:only-of-type {\n",
              "        vertical-align: middle;\n",
              "    }\n",
              "\n",
              "    .dataframe tbody tr th {\n",
              "        vertical-align: top;\n",
              "    }\n",
              "\n",
              "    .dataframe thead th {\n",
              "        text-align: right;\n",
              "    }\n",
              "</style>\n",
              "<table border=\"1\" class=\"dataframe\">\n",
              "  <thead>\n",
              "    <tr style=\"text-align: right;\">\n",
              "      <th></th>\n",
              "      <th>id</th>\n",
              "      <th>gender</th>\n",
              "      <th>age</th>\n",
              "      <th>topic</th>\n",
              "      <th>sign</th>\n",
              "      <th>date</th>\n",
              "      <th>text</th>\n",
              "    </tr>\n",
              "  </thead>\n",
              "  <tbody>\n",
              "    <tr>\n",
              "      <th>0</th>\n",
              "      <td>2059027</td>\n",
              "      <td>male</td>\n",
              "      <td>15</td>\n",
              "      <td>Student</td>\n",
              "      <td>Leo</td>\n",
              "      <td>14,May,2004</td>\n",
              "      <td>Info has been found  100 pages and ...</td>\n",
              "    </tr>\n",
              "    <tr>\n",
              "      <th>1</th>\n",
              "      <td>2059027</td>\n",
              "      <td>male</td>\n",
              "      <td>15</td>\n",
              "      <td>Student</td>\n",
              "      <td>Leo</td>\n",
              "      <td>13,May,2004</td>\n",
              "      <td>These are the team members   Drewes...</td>\n",
              "    </tr>\n",
              "    <tr>\n",
              "      <th>2</th>\n",
              "      <td>2059027</td>\n",
              "      <td>male</td>\n",
              "      <td>15</td>\n",
              "      <td>Student</td>\n",
              "      <td>Leo</td>\n",
              "      <td>12,May,2004</td>\n",
              "      <td>In het kader van kernfusie op aarde...</td>\n",
              "    </tr>\n",
              "    <tr>\n",
              "      <th>3</th>\n",
              "      <td>2059027</td>\n",
              "      <td>male</td>\n",
              "      <td>15</td>\n",
              "      <td>Student</td>\n",
              "      <td>Leo</td>\n",
              "      <td>12,May,2004</td>\n",
              "      <td>testing  testing</td>\n",
              "    </tr>\n",
              "    <tr>\n",
              "      <th>4</th>\n",
              "      <td>3581210</td>\n",
              "      <td>male</td>\n",
              "      <td>33</td>\n",
              "      <td>InvestmentBanking</td>\n",
              "      <td>Aquarius</td>\n",
              "      <td>11,June,2004</td>\n",
              "      <td>Thanks to Yahoos Toolbar I can no...</td>\n",
              "    </tr>\n",
              "    <tr>\n",
              "      <th>5</th>\n",
              "      <td>3581210</td>\n",
              "      <td>male</td>\n",
              "      <td>33</td>\n",
              "      <td>InvestmentBanking</td>\n",
              "      <td>Aquarius</td>\n",
              "      <td>10,June,2004</td>\n",
              "      <td>I had an interesting conversation...</td>\n",
              "    </tr>\n",
              "    <tr>\n",
              "      <th>6</th>\n",
              "      <td>3581210</td>\n",
              "      <td>male</td>\n",
              "      <td>33</td>\n",
              "      <td>InvestmentBanking</td>\n",
              "      <td>Aquarius</td>\n",
              "      <td>10,June,2004</td>\n",
              "      <td>Somehow CocaCola has a way of sum...</td>\n",
              "    </tr>\n",
              "    <tr>\n",
              "      <th>7</th>\n",
              "      <td>3581210</td>\n",
              "      <td>male</td>\n",
              "      <td>33</td>\n",
              "      <td>InvestmentBanking</td>\n",
              "      <td>Aquarius</td>\n",
              "      <td>10,June,2004</td>\n",
              "      <td>If anything Korea is a country of...</td>\n",
              "    </tr>\n",
              "    <tr>\n",
              "      <th>8</th>\n",
              "      <td>3581210</td>\n",
              "      <td>male</td>\n",
              "      <td>33</td>\n",
              "      <td>InvestmentBanking</td>\n",
              "      <td>Aquarius</td>\n",
              "      <td>10,June,2004</td>\n",
              "      <td>Take a read of this news article ...</td>\n",
              "    </tr>\n",
              "    <tr>\n",
              "      <th>9</th>\n",
              "      <td>3581210</td>\n",
              "      <td>male</td>\n",
              "      <td>33</td>\n",
              "      <td>InvestmentBanking</td>\n",
              "      <td>Aquarius</td>\n",
              "      <td>09,June,2004</td>\n",
              "      <td>I surf the English news sites a l...</td>\n",
              "    </tr>\n",
              "  </tbody>\n",
              "</table>\n",
              "</div>"
            ],
            "text/plain": [
              "        id  ...                                               text\n",
              "0  2059027  ...             Info has been found  100 pages and ...\n",
              "1  2059027  ...             These are the team members   Drewes...\n",
              "2  2059027  ...             In het kader van kernfusie op aarde...\n",
              "3  2059027  ...                         testing  testing          \n",
              "4  3581210  ...               Thanks to Yahoos Toolbar I can no...\n",
              "5  3581210  ...               I had an interesting conversation...\n",
              "6  3581210  ...               Somehow CocaCola has a way of sum...\n",
              "7  3581210  ...               If anything Korea is a country of...\n",
              "8  3581210  ...               Take a read of this news article ...\n",
              "9  3581210  ...               I surf the English news sites a l...\n",
              "\n",
              "[10 rows x 7 columns]"
            ]
          },
          "metadata": {
            "tags": []
          },
          "execution_count": 13
        }
      ]
    },
    {
      "cell_type": "markdown",
      "metadata": {
        "id": "3GDWsQf58BvU"
      },
      "source": [
        "Convert all charcaters to lower case"
      ]
    },
    {
      "cell_type": "code",
      "metadata": {
        "id": "dTCZVLzaVbe-"
      },
      "source": [
        "blog_df.text = blog_df.text.apply(lambda s: s.lower())"
      ],
      "execution_count": 14,
      "outputs": []
    },
    {
      "cell_type": "code",
      "metadata": {
        "colab": {
          "base_uri": "https://localhost:8080/",
          "height": 343
        },
        "id": "95r7PZrUVfPu",
        "outputId": "028741d1-e783-4790-f1c9-bda8a5f5885c"
      },
      "source": [
        "blog_df.head(10)"
      ],
      "execution_count": 15,
      "outputs": [
        {
          "output_type": "execute_result",
          "data": {
            "text/html": [
              "<div>\n",
              "<style scoped>\n",
              "    .dataframe tbody tr th:only-of-type {\n",
              "        vertical-align: middle;\n",
              "    }\n",
              "\n",
              "    .dataframe tbody tr th {\n",
              "        vertical-align: top;\n",
              "    }\n",
              "\n",
              "    .dataframe thead th {\n",
              "        text-align: right;\n",
              "    }\n",
              "</style>\n",
              "<table border=\"1\" class=\"dataframe\">\n",
              "  <thead>\n",
              "    <tr style=\"text-align: right;\">\n",
              "      <th></th>\n",
              "      <th>id</th>\n",
              "      <th>gender</th>\n",
              "      <th>age</th>\n",
              "      <th>topic</th>\n",
              "      <th>sign</th>\n",
              "      <th>date</th>\n",
              "      <th>text</th>\n",
              "    </tr>\n",
              "  </thead>\n",
              "  <tbody>\n",
              "    <tr>\n",
              "      <th>0</th>\n",
              "      <td>2059027</td>\n",
              "      <td>male</td>\n",
              "      <td>15</td>\n",
              "      <td>Student</td>\n",
              "      <td>Leo</td>\n",
              "      <td>14,May,2004</td>\n",
              "      <td>info has been found  100 pages and ...</td>\n",
              "    </tr>\n",
              "    <tr>\n",
              "      <th>1</th>\n",
              "      <td>2059027</td>\n",
              "      <td>male</td>\n",
              "      <td>15</td>\n",
              "      <td>Student</td>\n",
              "      <td>Leo</td>\n",
              "      <td>13,May,2004</td>\n",
              "      <td>these are the team members   drewes...</td>\n",
              "    </tr>\n",
              "    <tr>\n",
              "      <th>2</th>\n",
              "      <td>2059027</td>\n",
              "      <td>male</td>\n",
              "      <td>15</td>\n",
              "      <td>Student</td>\n",
              "      <td>Leo</td>\n",
              "      <td>12,May,2004</td>\n",
              "      <td>in het kader van kernfusie op aarde...</td>\n",
              "    </tr>\n",
              "    <tr>\n",
              "      <th>3</th>\n",
              "      <td>2059027</td>\n",
              "      <td>male</td>\n",
              "      <td>15</td>\n",
              "      <td>Student</td>\n",
              "      <td>Leo</td>\n",
              "      <td>12,May,2004</td>\n",
              "      <td>testing  testing</td>\n",
              "    </tr>\n",
              "    <tr>\n",
              "      <th>4</th>\n",
              "      <td>3581210</td>\n",
              "      <td>male</td>\n",
              "      <td>33</td>\n",
              "      <td>InvestmentBanking</td>\n",
              "      <td>Aquarius</td>\n",
              "      <td>11,June,2004</td>\n",
              "      <td>thanks to yahoos toolbar i can no...</td>\n",
              "    </tr>\n",
              "    <tr>\n",
              "      <th>5</th>\n",
              "      <td>3581210</td>\n",
              "      <td>male</td>\n",
              "      <td>33</td>\n",
              "      <td>InvestmentBanking</td>\n",
              "      <td>Aquarius</td>\n",
              "      <td>10,June,2004</td>\n",
              "      <td>i had an interesting conversation...</td>\n",
              "    </tr>\n",
              "    <tr>\n",
              "      <th>6</th>\n",
              "      <td>3581210</td>\n",
              "      <td>male</td>\n",
              "      <td>33</td>\n",
              "      <td>InvestmentBanking</td>\n",
              "      <td>Aquarius</td>\n",
              "      <td>10,June,2004</td>\n",
              "      <td>somehow cocacola has a way of sum...</td>\n",
              "    </tr>\n",
              "    <tr>\n",
              "      <th>7</th>\n",
              "      <td>3581210</td>\n",
              "      <td>male</td>\n",
              "      <td>33</td>\n",
              "      <td>InvestmentBanking</td>\n",
              "      <td>Aquarius</td>\n",
              "      <td>10,June,2004</td>\n",
              "      <td>if anything korea is a country of...</td>\n",
              "    </tr>\n",
              "    <tr>\n",
              "      <th>8</th>\n",
              "      <td>3581210</td>\n",
              "      <td>male</td>\n",
              "      <td>33</td>\n",
              "      <td>InvestmentBanking</td>\n",
              "      <td>Aquarius</td>\n",
              "      <td>10,June,2004</td>\n",
              "      <td>take a read of this news article ...</td>\n",
              "    </tr>\n",
              "    <tr>\n",
              "      <th>9</th>\n",
              "      <td>3581210</td>\n",
              "      <td>male</td>\n",
              "      <td>33</td>\n",
              "      <td>InvestmentBanking</td>\n",
              "      <td>Aquarius</td>\n",
              "      <td>09,June,2004</td>\n",
              "      <td>i surf the english news sites a l...</td>\n",
              "    </tr>\n",
              "  </tbody>\n",
              "</table>\n",
              "</div>"
            ],
            "text/plain": [
              "        id  ...                                               text\n",
              "0  2059027  ...             info has been found  100 pages and ...\n",
              "1  2059027  ...             these are the team members   drewes...\n",
              "2  2059027  ...             in het kader van kernfusie op aarde...\n",
              "3  2059027  ...                         testing  testing          \n",
              "4  3581210  ...               thanks to yahoos toolbar i can no...\n",
              "5  3581210  ...               i had an interesting conversation...\n",
              "6  3581210  ...               somehow cocacola has a way of sum...\n",
              "7  3581210  ...               if anything korea is a country of...\n",
              "8  3581210  ...               take a read of this news article ...\n",
              "9  3581210  ...               i surf the english news sites a l...\n",
              "\n",
              "[10 rows x 7 columns]"
            ]
          },
          "metadata": {
            "tags": []
          },
          "execution_count": 15
        }
      ]
    },
    {
      "cell_type": "markdown",
      "metadata": {
        "id": "x6hStMIc8Qfw"
      },
      "source": [
        "Remove leading and trailing spaces from the words"
      ]
    },
    {
      "cell_type": "code",
      "metadata": {
        "id": "HNhoNqoVVjSr"
      },
      "source": [
        "blog_df.text = blog_df.text.apply(lambda s: s.strip())"
      ],
      "execution_count": 16,
      "outputs": []
    },
    {
      "cell_type": "code",
      "metadata": {
        "colab": {
          "base_uri": "https://localhost:8080/",
          "height": 343
        },
        "id": "CG40prGSVxwT",
        "outputId": "c5222259-5993-4326-c1db-786cf228e98d"
      },
      "source": [
        "blog_df.head(10)"
      ],
      "execution_count": 17,
      "outputs": [
        {
          "output_type": "execute_result",
          "data": {
            "text/html": [
              "<div>\n",
              "<style scoped>\n",
              "    .dataframe tbody tr th:only-of-type {\n",
              "        vertical-align: middle;\n",
              "    }\n",
              "\n",
              "    .dataframe tbody tr th {\n",
              "        vertical-align: top;\n",
              "    }\n",
              "\n",
              "    .dataframe thead th {\n",
              "        text-align: right;\n",
              "    }\n",
              "</style>\n",
              "<table border=\"1\" class=\"dataframe\">\n",
              "  <thead>\n",
              "    <tr style=\"text-align: right;\">\n",
              "      <th></th>\n",
              "      <th>id</th>\n",
              "      <th>gender</th>\n",
              "      <th>age</th>\n",
              "      <th>topic</th>\n",
              "      <th>sign</th>\n",
              "      <th>date</th>\n",
              "      <th>text</th>\n",
              "    </tr>\n",
              "  </thead>\n",
              "  <tbody>\n",
              "    <tr>\n",
              "      <th>0</th>\n",
              "      <td>2059027</td>\n",
              "      <td>male</td>\n",
              "      <td>15</td>\n",
              "      <td>Student</td>\n",
              "      <td>Leo</td>\n",
              "      <td>14,May,2004</td>\n",
              "      <td>info has been found  100 pages and 45 mb of pd...</td>\n",
              "    </tr>\n",
              "    <tr>\n",
              "      <th>1</th>\n",
              "      <td>2059027</td>\n",
              "      <td>male</td>\n",
              "      <td>15</td>\n",
              "      <td>Student</td>\n",
              "      <td>Leo</td>\n",
              "      <td>13,May,2004</td>\n",
              "      <td>these are the team members   drewes van der la...</td>\n",
              "    </tr>\n",
              "    <tr>\n",
              "      <th>2</th>\n",
              "      <td>2059027</td>\n",
              "      <td>male</td>\n",
              "      <td>15</td>\n",
              "      <td>Student</td>\n",
              "      <td>Leo</td>\n",
              "      <td>12,May,2004</td>\n",
              "      <td>in het kader van kernfusie op aarde  maak je e...</td>\n",
              "    </tr>\n",
              "    <tr>\n",
              "      <th>3</th>\n",
              "      <td>2059027</td>\n",
              "      <td>male</td>\n",
              "      <td>15</td>\n",
              "      <td>Student</td>\n",
              "      <td>Leo</td>\n",
              "      <td>12,May,2004</td>\n",
              "      <td>testing  testing</td>\n",
              "    </tr>\n",
              "    <tr>\n",
              "      <th>4</th>\n",
              "      <td>3581210</td>\n",
              "      <td>male</td>\n",
              "      <td>33</td>\n",
              "      <td>InvestmentBanking</td>\n",
              "      <td>Aquarius</td>\n",
              "      <td>11,June,2004</td>\n",
              "      <td>thanks to yahoos toolbar i can now capture the...</td>\n",
              "    </tr>\n",
              "    <tr>\n",
              "      <th>5</th>\n",
              "      <td>3581210</td>\n",
              "      <td>male</td>\n",
              "      <td>33</td>\n",
              "      <td>InvestmentBanking</td>\n",
              "      <td>Aquarius</td>\n",
              "      <td>10,June,2004</td>\n",
              "      <td>i had an interesting conversation with my dad ...</td>\n",
              "    </tr>\n",
              "    <tr>\n",
              "      <th>6</th>\n",
              "      <td>3581210</td>\n",
              "      <td>male</td>\n",
              "      <td>33</td>\n",
              "      <td>InvestmentBanking</td>\n",
              "      <td>Aquarius</td>\n",
              "      <td>10,June,2004</td>\n",
              "      <td>somehow cocacola has a way of summing up thing...</td>\n",
              "    </tr>\n",
              "    <tr>\n",
              "      <th>7</th>\n",
              "      <td>3581210</td>\n",
              "      <td>male</td>\n",
              "      <td>33</td>\n",
              "      <td>InvestmentBanking</td>\n",
              "      <td>Aquarius</td>\n",
              "      <td>10,June,2004</td>\n",
              "      <td>if anything korea is a country of extremes  ev...</td>\n",
              "    </tr>\n",
              "    <tr>\n",
              "      <th>8</th>\n",
              "      <td>3581210</td>\n",
              "      <td>male</td>\n",
              "      <td>33</td>\n",
              "      <td>InvestmentBanking</td>\n",
              "      <td>Aquarius</td>\n",
              "      <td>10,June,2004</td>\n",
              "      <td>take a read of this news article from urllink ...</td>\n",
              "    </tr>\n",
              "    <tr>\n",
              "      <th>9</th>\n",
              "      <td>3581210</td>\n",
              "      <td>male</td>\n",
              "      <td>33</td>\n",
              "      <td>InvestmentBanking</td>\n",
              "      <td>Aquarius</td>\n",
              "      <td>09,June,2004</td>\n",
              "      <td>i surf the english news sites a lot looking fo...</td>\n",
              "    </tr>\n",
              "  </tbody>\n",
              "</table>\n",
              "</div>"
            ],
            "text/plain": [
              "        id  ...                                               text\n",
              "0  2059027  ...  info has been found  100 pages and 45 mb of pd...\n",
              "1  2059027  ...  these are the team members   drewes van der la...\n",
              "2  2059027  ...  in het kader van kernfusie op aarde  maak je e...\n",
              "3  2059027  ...                                   testing  testing\n",
              "4  3581210  ...  thanks to yahoos toolbar i can now capture the...\n",
              "5  3581210  ...  i had an interesting conversation with my dad ...\n",
              "6  3581210  ...  somehow cocacola has a way of summing up thing...\n",
              "7  3581210  ...  if anything korea is a country of extremes  ev...\n",
              "8  3581210  ...  take a read of this news article from urllink ...\n",
              "9  3581210  ...  i surf the english news sites a lot looking fo...\n",
              "\n",
              "[10 rows x 7 columns]"
            ]
          },
          "metadata": {
            "tags": []
          },
          "execution_count": 17
        }
      ]
    },
    {
      "cell_type": "markdown",
      "metadata": {
        "id": "Yc0p1oFc8XDp"
      },
      "source": [
        "Remove stopwords such as the, that etc. "
      ]
    },
    {
      "cell_type": "code",
      "metadata": {
        "colab": {
          "base_uri": "https://localhost:8080/"
        },
        "id": "G3UMHmTmVy-7",
        "outputId": "23a484a3-093a-4d74-a3b0-d8004c881511"
      },
      "source": [
        "nltk.download('stopwords')\n",
        "stopwords=set(stopwords.words('english'))\n",
        "blog_df.text = blog_df.text.apply(lambda t: ' '.join([words for words in t.split() if words not in stopwords]) )"
      ],
      "execution_count": 18,
      "outputs": [
        {
          "output_type": "stream",
          "text": [
            "[nltk_data] Downloading package stopwords to /root/nltk_data...\n",
            "[nltk_data]   Unzipping corpora/stopwords.zip.\n"
          ],
          "name": "stdout"
        }
      ]
    },
    {
      "cell_type": "code",
      "metadata": {
        "colab": {
          "base_uri": "https://localhost:8080/",
          "height": 343
        },
        "id": "c6eaEIvDWSXp",
        "outputId": "9594c2e4-ed82-4a9a-d952-b057b017d49e"
      },
      "source": [
        "blog_df.head(10)"
      ],
      "execution_count": 19,
      "outputs": [
        {
          "output_type": "execute_result",
          "data": {
            "text/html": [
              "<div>\n",
              "<style scoped>\n",
              "    .dataframe tbody tr th:only-of-type {\n",
              "        vertical-align: middle;\n",
              "    }\n",
              "\n",
              "    .dataframe tbody tr th {\n",
              "        vertical-align: top;\n",
              "    }\n",
              "\n",
              "    .dataframe thead th {\n",
              "        text-align: right;\n",
              "    }\n",
              "</style>\n",
              "<table border=\"1\" class=\"dataframe\">\n",
              "  <thead>\n",
              "    <tr style=\"text-align: right;\">\n",
              "      <th></th>\n",
              "      <th>id</th>\n",
              "      <th>gender</th>\n",
              "      <th>age</th>\n",
              "      <th>topic</th>\n",
              "      <th>sign</th>\n",
              "      <th>date</th>\n",
              "      <th>text</th>\n",
              "    </tr>\n",
              "  </thead>\n",
              "  <tbody>\n",
              "    <tr>\n",
              "      <th>0</th>\n",
              "      <td>2059027</td>\n",
              "      <td>male</td>\n",
              "      <td>15</td>\n",
              "      <td>Student</td>\n",
              "      <td>Leo</td>\n",
              "      <td>14,May,2004</td>\n",
              "      <td>info found 100 pages 45 mb pdf files wait unti...</td>\n",
              "    </tr>\n",
              "    <tr>\n",
              "      <th>1</th>\n",
              "      <td>2059027</td>\n",
              "      <td>male</td>\n",
              "      <td>15</td>\n",
              "      <td>Student</td>\n",
              "      <td>Leo</td>\n",
              "      <td>13,May,2004</td>\n",
              "      <td>team members drewes van der laag urllink mail ...</td>\n",
              "    </tr>\n",
              "    <tr>\n",
              "      <th>2</th>\n",
              "      <td>2059027</td>\n",
              "      <td>male</td>\n",
              "      <td>15</td>\n",
              "      <td>Student</td>\n",
              "      <td>Leo</td>\n",
              "      <td>12,May,2004</td>\n",
              "      <td>het kader van kernfusie op aarde maak je eigen...</td>\n",
              "    </tr>\n",
              "    <tr>\n",
              "      <th>3</th>\n",
              "      <td>2059027</td>\n",
              "      <td>male</td>\n",
              "      <td>15</td>\n",
              "      <td>Student</td>\n",
              "      <td>Leo</td>\n",
              "      <td>12,May,2004</td>\n",
              "      <td>testing testing</td>\n",
              "    </tr>\n",
              "    <tr>\n",
              "      <th>4</th>\n",
              "      <td>3581210</td>\n",
              "      <td>male</td>\n",
              "      <td>33</td>\n",
              "      <td>InvestmentBanking</td>\n",
              "      <td>Aquarius</td>\n",
              "      <td>11,June,2004</td>\n",
              "      <td>thanks yahoos toolbar capture urls popupswhich...</td>\n",
              "    </tr>\n",
              "    <tr>\n",
              "      <th>5</th>\n",
              "      <td>3581210</td>\n",
              "      <td>male</td>\n",
              "      <td>33</td>\n",
              "      <td>InvestmentBanking</td>\n",
              "      <td>Aquarius</td>\n",
              "      <td>10,June,2004</td>\n",
              "      <td>interesting conversation dad morning talking k...</td>\n",
              "    </tr>\n",
              "    <tr>\n",
              "      <th>6</th>\n",
              "      <td>3581210</td>\n",
              "      <td>male</td>\n",
              "      <td>33</td>\n",
              "      <td>InvestmentBanking</td>\n",
              "      <td>Aquarius</td>\n",
              "      <td>10,June,2004</td>\n",
              "      <td>somehow cocacola way summing things well early...</td>\n",
              "    </tr>\n",
              "    <tr>\n",
              "      <th>7</th>\n",
              "      <td>3581210</td>\n",
              "      <td>male</td>\n",
              "      <td>33</td>\n",
              "      <td>InvestmentBanking</td>\n",
              "      <td>Aquarius</td>\n",
              "      <td>10,June,2004</td>\n",
              "      <td>anything korea country extremes everything see...</td>\n",
              "    </tr>\n",
              "    <tr>\n",
              "      <th>8</th>\n",
              "      <td>3581210</td>\n",
              "      <td>male</td>\n",
              "      <td>33</td>\n",
              "      <td>InvestmentBanking</td>\n",
              "      <td>Aquarius</td>\n",
              "      <td>10,June,2004</td>\n",
              "      <td>take read news article urllink joongang ilbo n...</td>\n",
              "    </tr>\n",
              "    <tr>\n",
              "      <th>9</th>\n",
              "      <td>3581210</td>\n",
              "      <td>male</td>\n",
              "      <td>33</td>\n",
              "      <td>InvestmentBanking</td>\n",
              "      <td>Aquarius</td>\n",
              "      <td>09,June,2004</td>\n",
              "      <td>surf english news sites lot looking tidbits ko...</td>\n",
              "    </tr>\n",
              "  </tbody>\n",
              "</table>\n",
              "</div>"
            ],
            "text/plain": [
              "        id  ...                                               text\n",
              "0  2059027  ...  info found 100 pages 45 mb pdf files wait unti...\n",
              "1  2059027  ...  team members drewes van der laag urllink mail ...\n",
              "2  2059027  ...  het kader van kernfusie op aarde maak je eigen...\n",
              "3  2059027  ...                                    testing testing\n",
              "4  3581210  ...  thanks yahoos toolbar capture urls popupswhich...\n",
              "5  3581210  ...  interesting conversation dad morning talking k...\n",
              "6  3581210  ...  somehow cocacola way summing things well early...\n",
              "7  3581210  ...  anything korea country extremes everything see...\n",
              "8  3581210  ...  take read news article urllink joongang ilbo n...\n",
              "9  3581210  ...  surf english news sites lot looking tidbits ko...\n",
              "\n",
              "[10 rows x 7 columns]"
            ]
          },
          "metadata": {
            "tags": []
          },
          "execution_count": 19
        }
      ]
    },
    {
      "cell_type": "markdown",
      "metadata": {
        "id": "VZQu0IFg8mIo"
      },
      "source": [
        "Remove the Id and Date features as they are not useful for training purposes"
      ]
    },
    {
      "cell_type": "code",
      "metadata": {
        "id": "gjAEdHYGWgE6"
      },
      "source": [
        "blog_df.drop(labels=['id','date'], axis=1,inplace=True)"
      ],
      "execution_count": 20,
      "outputs": []
    },
    {
      "cell_type": "code",
      "metadata": {
        "colab": {
          "base_uri": "https://localhost:8080/",
          "height": 343
        },
        "id": "-MzBVBECWtUH",
        "outputId": "ae3099dd-af00-4360-fc48-f997a14c1a5d"
      },
      "source": [
        "blog_df.head(10)"
      ],
      "execution_count": 21,
      "outputs": [
        {
          "output_type": "execute_result",
          "data": {
            "text/html": [
              "<div>\n",
              "<style scoped>\n",
              "    .dataframe tbody tr th:only-of-type {\n",
              "        vertical-align: middle;\n",
              "    }\n",
              "\n",
              "    .dataframe tbody tr th {\n",
              "        vertical-align: top;\n",
              "    }\n",
              "\n",
              "    .dataframe thead th {\n",
              "        text-align: right;\n",
              "    }\n",
              "</style>\n",
              "<table border=\"1\" class=\"dataframe\">\n",
              "  <thead>\n",
              "    <tr style=\"text-align: right;\">\n",
              "      <th></th>\n",
              "      <th>gender</th>\n",
              "      <th>age</th>\n",
              "      <th>topic</th>\n",
              "      <th>sign</th>\n",
              "      <th>text</th>\n",
              "    </tr>\n",
              "  </thead>\n",
              "  <tbody>\n",
              "    <tr>\n",
              "      <th>0</th>\n",
              "      <td>male</td>\n",
              "      <td>15</td>\n",
              "      <td>Student</td>\n",
              "      <td>Leo</td>\n",
              "      <td>info found 100 pages 45 mb pdf files wait unti...</td>\n",
              "    </tr>\n",
              "    <tr>\n",
              "      <th>1</th>\n",
              "      <td>male</td>\n",
              "      <td>15</td>\n",
              "      <td>Student</td>\n",
              "      <td>Leo</td>\n",
              "      <td>team members drewes van der laag urllink mail ...</td>\n",
              "    </tr>\n",
              "    <tr>\n",
              "      <th>2</th>\n",
              "      <td>male</td>\n",
              "      <td>15</td>\n",
              "      <td>Student</td>\n",
              "      <td>Leo</td>\n",
              "      <td>het kader van kernfusie op aarde maak je eigen...</td>\n",
              "    </tr>\n",
              "    <tr>\n",
              "      <th>3</th>\n",
              "      <td>male</td>\n",
              "      <td>15</td>\n",
              "      <td>Student</td>\n",
              "      <td>Leo</td>\n",
              "      <td>testing testing</td>\n",
              "    </tr>\n",
              "    <tr>\n",
              "      <th>4</th>\n",
              "      <td>male</td>\n",
              "      <td>33</td>\n",
              "      <td>InvestmentBanking</td>\n",
              "      <td>Aquarius</td>\n",
              "      <td>thanks yahoos toolbar capture urls popupswhich...</td>\n",
              "    </tr>\n",
              "    <tr>\n",
              "      <th>5</th>\n",
              "      <td>male</td>\n",
              "      <td>33</td>\n",
              "      <td>InvestmentBanking</td>\n",
              "      <td>Aquarius</td>\n",
              "      <td>interesting conversation dad morning talking k...</td>\n",
              "    </tr>\n",
              "    <tr>\n",
              "      <th>6</th>\n",
              "      <td>male</td>\n",
              "      <td>33</td>\n",
              "      <td>InvestmentBanking</td>\n",
              "      <td>Aquarius</td>\n",
              "      <td>somehow cocacola way summing things well early...</td>\n",
              "    </tr>\n",
              "    <tr>\n",
              "      <th>7</th>\n",
              "      <td>male</td>\n",
              "      <td>33</td>\n",
              "      <td>InvestmentBanking</td>\n",
              "      <td>Aquarius</td>\n",
              "      <td>anything korea country extremes everything see...</td>\n",
              "    </tr>\n",
              "    <tr>\n",
              "      <th>8</th>\n",
              "      <td>male</td>\n",
              "      <td>33</td>\n",
              "      <td>InvestmentBanking</td>\n",
              "      <td>Aquarius</td>\n",
              "      <td>take read news article urllink joongang ilbo n...</td>\n",
              "    </tr>\n",
              "    <tr>\n",
              "      <th>9</th>\n",
              "      <td>male</td>\n",
              "      <td>33</td>\n",
              "      <td>InvestmentBanking</td>\n",
              "      <td>Aquarius</td>\n",
              "      <td>surf english news sites lot looking tidbits ko...</td>\n",
              "    </tr>\n",
              "  </tbody>\n",
              "</table>\n",
              "</div>"
            ],
            "text/plain": [
              "  gender  age  ...      sign                                               text\n",
              "0   male   15  ...       Leo  info found 100 pages 45 mb pdf files wait unti...\n",
              "1   male   15  ...       Leo  team members drewes van der laag urllink mail ...\n",
              "2   male   15  ...       Leo  het kader van kernfusie op aarde maak je eigen...\n",
              "3   male   15  ...       Leo                                    testing testing\n",
              "4   male   33  ...  Aquarius  thanks yahoos toolbar capture urls popupswhich...\n",
              "5   male   33  ...  Aquarius  interesting conversation dad morning talking k...\n",
              "6   male   33  ...  Aquarius  somehow cocacola way summing things well early...\n",
              "7   male   33  ...  Aquarius  anything korea country extremes everything see...\n",
              "8   male   33  ...  Aquarius  take read news article urllink joongang ilbo n...\n",
              "9   male   33  ...  Aquarius  surf english news sites lot looking tidbits ko...\n",
              "\n",
              "[10 rows x 5 columns]"
            ]
          },
          "metadata": {
            "tags": []
          },
          "execution_count": 21
        }
      ]
    },
    {
      "cell_type": "markdown",
      "metadata": {
        "id": "GkMvCR469Yiw"
      },
      "source": [
        "Let us merge all the label columns together i.e. gender, age, topic and Zodiac sign. Since this is the combination that we need to predict, it will act as a single label for the purpose of training\n",
        "\n",
        "Once we have a single concatenated label, we can drop the individual labels which will not be required"
      ]
    },
    {
      "cell_type": "code",
      "metadata": {
        "id": "msEdIC78Wu0p"
      },
      "source": [
        "blog_df['labels'] = blog_df.apply(lambda col : [col['gender'],col['age'],col['topic'],col['sign']], axis=1)\n",
        "blog_df.drop(columns=['gender','age','topic','sign'], axis=1, inplace=True)"
      ],
      "execution_count": 22,
      "outputs": []
    },
    {
      "cell_type": "code",
      "metadata": {
        "colab": {
          "base_uri": "https://localhost:8080/",
          "height": 343
        },
        "id": "rXifqnJVW3yu",
        "outputId": "a8df167e-800a-4f4b-8364-6916591cb42f"
      },
      "source": [
        "blog_df.head(10)"
      ],
      "execution_count": 23,
      "outputs": [
        {
          "output_type": "execute_result",
          "data": {
            "text/html": [
              "<div>\n",
              "<style scoped>\n",
              "    .dataframe tbody tr th:only-of-type {\n",
              "        vertical-align: middle;\n",
              "    }\n",
              "\n",
              "    .dataframe tbody tr th {\n",
              "        vertical-align: top;\n",
              "    }\n",
              "\n",
              "    .dataframe thead th {\n",
              "        text-align: right;\n",
              "    }\n",
              "</style>\n",
              "<table border=\"1\" class=\"dataframe\">\n",
              "  <thead>\n",
              "    <tr style=\"text-align: right;\">\n",
              "      <th></th>\n",
              "      <th>text</th>\n",
              "      <th>labels</th>\n",
              "    </tr>\n",
              "  </thead>\n",
              "  <tbody>\n",
              "    <tr>\n",
              "      <th>0</th>\n",
              "      <td>info found 100 pages 45 mb pdf files wait unti...</td>\n",
              "      <td>[male, 15, Student, Leo]</td>\n",
              "    </tr>\n",
              "    <tr>\n",
              "      <th>1</th>\n",
              "      <td>team members drewes van der laag urllink mail ...</td>\n",
              "      <td>[male, 15, Student, Leo]</td>\n",
              "    </tr>\n",
              "    <tr>\n",
              "      <th>2</th>\n",
              "      <td>het kader van kernfusie op aarde maak je eigen...</td>\n",
              "      <td>[male, 15, Student, Leo]</td>\n",
              "    </tr>\n",
              "    <tr>\n",
              "      <th>3</th>\n",
              "      <td>testing testing</td>\n",
              "      <td>[male, 15, Student, Leo]</td>\n",
              "    </tr>\n",
              "    <tr>\n",
              "      <th>4</th>\n",
              "      <td>thanks yahoos toolbar capture urls popupswhich...</td>\n",
              "      <td>[male, 33, InvestmentBanking, Aquarius]</td>\n",
              "    </tr>\n",
              "    <tr>\n",
              "      <th>5</th>\n",
              "      <td>interesting conversation dad morning talking k...</td>\n",
              "      <td>[male, 33, InvestmentBanking, Aquarius]</td>\n",
              "    </tr>\n",
              "    <tr>\n",
              "      <th>6</th>\n",
              "      <td>somehow cocacola way summing things well early...</td>\n",
              "      <td>[male, 33, InvestmentBanking, Aquarius]</td>\n",
              "    </tr>\n",
              "    <tr>\n",
              "      <th>7</th>\n",
              "      <td>anything korea country extremes everything see...</td>\n",
              "      <td>[male, 33, InvestmentBanking, Aquarius]</td>\n",
              "    </tr>\n",
              "    <tr>\n",
              "      <th>8</th>\n",
              "      <td>take read news article urllink joongang ilbo n...</td>\n",
              "      <td>[male, 33, InvestmentBanking, Aquarius]</td>\n",
              "    </tr>\n",
              "    <tr>\n",
              "      <th>9</th>\n",
              "      <td>surf english news sites lot looking tidbits ko...</td>\n",
              "      <td>[male, 33, InvestmentBanking, Aquarius]</td>\n",
              "    </tr>\n",
              "  </tbody>\n",
              "</table>\n",
              "</div>"
            ],
            "text/plain": [
              "                                                text                                   labels\n",
              "0  info found 100 pages 45 mb pdf files wait unti...                 [male, 15, Student, Leo]\n",
              "1  team members drewes van der laag urllink mail ...                 [male, 15, Student, Leo]\n",
              "2  het kader van kernfusie op aarde maak je eigen...                 [male, 15, Student, Leo]\n",
              "3                                    testing testing                 [male, 15, Student, Leo]\n",
              "4  thanks yahoos toolbar capture urls popupswhich...  [male, 33, InvestmentBanking, Aquarius]\n",
              "5  interesting conversation dad morning talking k...  [male, 33, InvestmentBanking, Aquarius]\n",
              "6  somehow cocacola way summing things well early...  [male, 33, InvestmentBanking, Aquarius]\n",
              "7  anything korea country extremes everything see...  [male, 33, InvestmentBanking, Aquarius]\n",
              "8  take read news article urllink joongang ilbo n...  [male, 33, InvestmentBanking, Aquarius]\n",
              "9  surf english news sites lot looking tidbits ko...  [male, 33, InvestmentBanking, Aquarius]"
            ]
          },
          "metadata": {
            "tags": []
          },
          "execution_count": 23
        }
      ]
    },
    {
      "cell_type": "markdown",
      "metadata": {
        "id": "Q_-hs-Sv-OYW"
      },
      "source": [
        "Separate the dependent (features) and independent (labels) variables form the data set. Split the data set into training and validation data sets using 80%-20% ratio"
      ]
    },
    {
      "cell_type": "code",
      "metadata": {
        "colab": {
          "base_uri": "https://localhost:8080/"
        },
        "id": "xFIyLj8IXCF6",
        "outputId": "e42b9319-cb8f-4ac9-bf09-80e5e4779ac0"
      },
      "source": [
        "X= blog_df.text\n",
        "y = blog_df.labels\n",
        "\n",
        "X_train, X_test, y_train, y_test = train_test_split(X,y, random_state=42,test_size = 0.2)\n",
        "\n",
        "print(\"Shape of X_train:\",X_train.shape)\n",
        "print(\"Shape of X_test:\",X_test.shape)\n",
        "\n",
        "print(\"Shape of y_train:\",y_train.shape)\n",
        "print(\"Shape of y_test:\",y_test.shape)\n"
      ],
      "execution_count": 24,
      "outputs": [
        {
          "output_type": "stream",
          "text": [
            "Shape of X_train: (12000,)\n",
            "Shape of X_test: (3000,)\n",
            "Shape of y_train: (12000,)\n",
            "Shape of y_test: (3000,)\n"
          ],
          "name": "stdout"
        }
      ]
    },
    {
      "cell_type": "markdown",
      "metadata": {
        "id": "t2bxmsxVAOMH"
      },
      "source": [
        "We will create a BOW (Bag of Words) using CountVectorizer and display the word count"
      ]
    },
    {
      "cell_type": "code",
      "metadata": {
        "colab": {
          "base_uri": "https://localhost:8080/"
        },
        "id": "EzTFB6xlYF3y",
        "outputId": "235fe223-3048-4197-fef7-39139b8b32d6"
      },
      "source": [
        "countVectorizer = CountVectorizer(ngram_range=(1,2))\n",
        "countVectorizer.fit(X_train)\n",
        "len(countVectorizer.vocabulary_)"
      ],
      "execution_count": 25,
      "outputs": [
        {
          "output_type": "execute_result",
          "data": {
            "text/plain": [
              "855318"
            ]
          },
          "metadata": {
            "tags": []
          },
          "execution_count": 25
        }
      ]
    },
    {
      "cell_type": "markdown",
      "metadata": {
        "id": "TWDDa-6IAdn0"
      },
      "source": [
        "Let us display the matrix of word token counts"
      ]
    },
    {
      "cell_type": "code",
      "metadata": {
        "colab": {
          "base_uri": "https://localhost:8080/"
        },
        "id": "7VwJLU56cm93",
        "outputId": "40ed6b07-9e35-484e-de75-042ebc282760"
      },
      "source": [
        "countVectorizer.get_feature_names()"
      ],
      "execution_count": 26,
      "outputs": [
        {
          "output_type": "execute_result",
          "data": {
            "text/plain": [
              "['00',\n",
              " '00 one',\n",
              " '00 tcr1',\n",
              " '000',\n",
              " '000 address',\n",
              " '000 calories',\n",
              " '000 people',\n",
              " '000 songs',\n",
              " '000 subject',\n",
              " '0000',\n",
              " '0000 blinking',\n",
              " '000001',\n",
              " '000001 maybe',\n",
              " '001',\n",
              " '001 first',\n",
              " '0015',\n",
              " '0015 15',\n",
              " '001875',\n",
              " '001875 plugging',\n",
              " '002',\n",
              " '002 first',\n",
              " '002 like',\n",
              " '002 middle',\n",
              " '003',\n",
              " '003 last',\n",
              " '004',\n",
              " '004 nicknames',\n",
              " '005',\n",
              " '005 euroes',\n",
              " '005 eurosnbsp',\n",
              " '005 gender',\n",
              " '005 pretty',\n",
              " '006',\n",
              " '006 age',\n",
              " '007',\n",
              " '007 birthday',\n",
              " '007 dun',\n",
              " '007 game',\n",
              " '007 undocumentables',\n",
              " '00734',\n",
              " '00734 wait',\n",
              " '008',\n",
              " '008 height',\n",
              " '009',\n",
              " '009 hair',\n",
              " '00s',\n",
              " '00s rest',\n",
              " '01',\n",
              " '01 101102',\n",
              " '01 informs',\n",
              " '01 known',\n",
              " '01 means',\n",
              " '01 minds',\n",
              " '01 role',\n",
              " '01 televive',\n",
              " '01 triggered',\n",
              " '01 underworld',\n",
              " '01 我的地盤',\n",
              " '010',\n",
              " '010 eye',\n",
              " '0100',\n",
              " '0100 hrs',\n",
              " '0100 wokeup',\n",
              " '0100010001101111011100100110101101111000',\n",
              " '010203',\n",
              " '010203 hehehe',\n",
              " '011',\n",
              " '011 race',\n",
              " '011 uich',\n",
              " '0117',\n",
              " '0117 4452271145527',\n",
              " '011785',\n",
              " '011785 45227',\n",
              " '012',\n",
              " '012 glasses',\n",
              " '012 last',\n",
              " '01234',\n",
              " '01234 time',\n",
              " '013',\n",
              " '013 dodid',\n",
              " '014',\n",
              " '014 hair',\n",
              " '015',\n",
              " '015 born',\n",
              " '016',\n",
              " '016 current',\n",
              " '017',\n",
              " '017 zodiac',\n",
              " '018',\n",
              " '018 many',\n",
              " '019',\n",
              " '019 nationality',\n",
              " '02',\n",
              " '02 added',\n",
              " '02 argue',\n",
              " '02 deadbeat',\n",
              " '02 hope',\n",
              " '02 last',\n",
              " '02 pet',\n",
              " '02 right',\n",
              " '02 weve',\n",
              " '02 wilding',\n",
              " '02 七里香',\n",
              " '020',\n",
              " '020 bad',\n",
              " '020031',\n",
              " '020031 pm',\n",
              " '021',\n",
              " '021 piercings',\n",
              " '021 totally',\n",
              " '02182004',\n",
              " '02182004 urllink',\n",
              " '022',\n",
              " '022 piercings',\n",
              " '02232004',\n",
              " '023',\n",
              " '023 tattoos',\n",
              " '024',\n",
              " '024 tattoos',\n",
              " '025',\n",
              " '025 050',\n",
              " '025 todays',\n",
              " '025613',\n",
              " '025613 pm',\n",
              " '026',\n",
              " '026 main',\n",
              " '026 time',\n",
              " '026119',\n",
              " '026119 63',\n",
              " '027',\n",
              " '027 ready',\n",
              " '028',\n",
              " '028 mothers',\n",
              " '029',\n",
              " '029 fathers',\n",
              " '03',\n",
              " '03 always',\n",
              " '03 ask',\n",
              " '03 calvin',\n",
              " '03 deadbeat',\n",
              " '03 encoded',\n",
              " '03 ever',\n",
              " '03 fiesta',\n",
              " '03 focus',\n",
              " '03 since',\n",
              " '03 state',\n",
              " '03 untitled',\n",
              " '03 藉口',\n",
              " '030',\n",
              " '030 stepparents',\n",
              " '0300',\n",
              " '0300 things',\n",
              " '0303',\n",
              " '0303 afternoon',\n",
              " '0303 pass',\n",
              " '030303',\n",
              " '030303 gods',\n",
              " '030303 world',\n",
              " '030303 wouldnt',\n",
              " '0303030303',\n",
              " '0303030303 wont',\n",
              " '031',\n",
              " '031 brotherss',\n",
              " '03152004',\n",
              " '03152004 urllink',\n",
              " '032',\n",
              " '032 sisterss',\n",
              " '033',\n",
              " '033 favorite',\n",
              " '033100',\n",
              " '033100 pm',\n",
              " '034',\n",
              " '034 favorite',\n",
              " '035',\n",
              " '035 favorite',\n",
              " '036',\n",
              " '036 worst',\n",
              " '037',\n",
              " '037 best',\n",
              " '038',\n",
              " '038 get',\n",
              " '039',\n",
              " '039 anyone',\n",
              " '03my',\n",
              " '03my life',\n",
              " '04',\n",
              " '04 05',\n",
              " '04 actaully',\n",
              " '04 added',\n",
              " '04 apocalypse',\n",
              " '04 asses',\n",
              " '04 bumper',\n",
              " '04 capitalize',\n",
              " '04 chels',\n",
              " '04 chelsi',\n",
              " '04 ck',\n",
              " '04 compassionate',\n",
              " '04 dont',\n",
              " '04 economys',\n",
              " '04 else',\n",
              " '04 encoded',\n",
              " '04 ever',\n",
              " '04 four',\n",
              " '04 fun',\n",
              " '04 get',\n",
              " '04 going',\n",
              " '04 gooder',\n",
              " '04 heart',\n",
              " '04 im',\n",
              " '04 last',\n",
              " '04 leave',\n",
              " '04 less',\n",
              " '04 making',\n",
              " '04 nobrainer',\n",
              " '04 note',\n",
              " '04 ntu',\n",
              " '04 pineapple',\n",
              " '04 putting',\n",
              " '04 season',\n",
              " '04 state',\n",
              " '04 tasks',\n",
              " '04 thanks',\n",
              " '04 ticket',\n",
              " '04 time',\n",
              " '04 trustworthy',\n",
              " '04 truth',\n",
              " '04 world',\n",
              " '04 written',\n",
              " '04 外婆',\n",
              " '040',\n",
              " '040 24hour',\n",
              " '040 pets',\n",
              " '0400',\n",
              " '0400 im',\n",
              " '040404',\n",
              " '040404 happens',\n",
              " '0405for',\n",
              " '0405for airtel',\n",
              " '041',\n",
              " '041 names',\n",
              " '041804',\n",
              " '041804 httparxivorgquantphabs0312043v1',\n",
              " '042',\n",
              " '042 kind',\n",
              " '042721',\n",
              " '042721 andrew',\n",
              " '043',\n",
              " '043 still',\n",
              " '0430',\n",
              " '0430 first',\n",
              " '044',\n",
              " '044 drop',\n",
              " '045',\n",
              " '045 current',\n",
              " '045090',\n",
              " '045090 usd',\n",
              " '046',\n",
              " '046 favorite',\n",
              " '047',\n",
              " '047 least',\n",
              " '04722866124',\n",
              " '04722866124 one',\n",
              " '048',\n",
              " '048 favorite',\n",
              " '049',\n",
              " '049 least',\n",
              " '04but',\n",
              " '04but couldnt',\n",
              " '04ck05',\n",
              " '04yet',\n",
              " '04yet another',\n",
              " '05',\n",
              " '05 back',\n",
              " '05 edited',\n",
              " '05 ever',\n",
              " '05 finish',\n",
              " '05 forget',\n",
              " '05 hee',\n",
              " '05 im',\n",
              " '05 jul',\n",
              " '05 little',\n",
              " '05 makes',\n",
              " '05 may',\n",
              " '05 oh',\n",
              " '05 pars',\n",
              " '05 script',\n",
              " '05 second',\n",
              " '05 sweet',\n",
              " '05 trouble',\n",
              " '05 將軍',\n",
              " '050',\n",
              " '050 favorite',\n",
              " '050 increments',\n",
              " '050402',\n",
              " '050402 2003',\n",
              " '051',\n",
              " '051 least',\n",
              " '051101',\n",
              " '051101 67',\n",
              " '051704',\n",
              " '052',\n",
              " '052 dodid',\n",
              " '0525',\n",
              " '0525 pm',\n",
              " '05292004',\n",
              " '05292004 dreamtheaternet',\n",
              " '053',\n",
              " '053 play',\n",
              " '0530',\n",
              " '0530 0600',\n",
              " '054',\n",
              " '054 dodid',\n",
              " '055',\n",
              " '055 arewere',\n",
              " '056',\n",
              " '056 favorite',\n",
              " '056116',\n",
              " '056116 written',\n",
              " '057',\n",
              " '057 favorite',\n",
              " '058',\n",
              " '058 least',\n",
              " '059',\n",
              " '059 least',\n",
              " '05april',\n",
              " '05april 05',\n",
              " '06',\n",
              " '06 121033',\n",
              " '06 airs',\n",
              " '06 cloud',\n",
              " '06 hard',\n",
              " '06 im',\n",
              " '06 sent',\n",
              " '06 set',\n",
              " '06 sure',\n",
              " '06 tonight',\n",
              " '06 type',\n",
              " '06 擱淺',\n",
              " '060',\n",
              " '060 humiliating',\n",
              " '0600',\n",
              " '0600 morning',\n",
              " '0600 please',\n",
              " '0600 rehearse',\n",
              " '061',\n",
              " '061 number',\n",
              " '061000',\n",
              " '061000 t061000',\n",
              " '062',\n",
              " '062 clothing',\n",
              " '063',\n",
              " '063 shoes',\n",
              " '06311',\n",
              " '06311 s680136see',\n",
              " '064',\n",
              " '064 saying',\n",
              " '065',\n",
              " '065 tv',\n",
              " '066',\n",
              " '066 sports',\n",
              " '067',\n",
              " '067 vegetables',\n",
              " '068',\n",
              " '068 fruits',\n",
              " '069',\n",
              " '069 movies',\n",
              " '06th',\n",
              " '06th 1987',\n",
              " '07',\n",
              " '07 08',\n",
              " '07 adjust',\n",
              " '07 always',\n",
              " '07 ever',\n",
              " '07 hot',\n",
              " '07 jesus',\n",
              " '07 last',\n",
              " '07 script',\n",
              " '07 sigh',\n",
              " '07 亂舞春秋',\n",
              " '070',\n",
              " '070 magazine',\n",
              " '0700',\n",
              " '0700 age',\n",
              " '0700 finalize',\n",
              " '0709',\n",
              " '0709 waiting',\n",
              " '071',\n",
              " '071 actors',\n",
              " '072',\n",
              " '072 actress',\n",
              " '07262004',\n",
              " '07262004 nfl',\n",
              " '073',\n",
              " '073 candy',\n",
              " '074',\n",
              " '074 gum',\n",
              " '074114',\n",
              " '074114 gmt',\n",
              " '0745',\n",
              " '0745 change',\n",
              " '0745 without',\n",
              " '075',\n",
              " '075 scent',\n",
              " '076',\n",
              " '076 candy',\n",
              " '077',\n",
              " '077 ice',\n",
              " '078',\n",
              " '078 color',\n",
              " '079',\n",
              " '079 season',\n",
              " '08',\n",
              " '08 2004',\n",
              " '08 audio',\n",
              " '08 day',\n",
              " '08 ever',\n",
              " '08 last',\n",
              " '08 pineapple',\n",
              " '08 sensitive',\n",
              " '08 surf',\n",
              " '08 困獸之鬥',\n",
              " '080',\n",
              " '080 holiday',\n",
              " '0800',\n",
              " '0800 despite',\n",
              " '0800 guessed',\n",
              " '0800 im',\n",
              " '0805',\n",
              " '0805 abouts',\n",
              " '081',\n",
              " '081 band',\n",
              " '082',\n",
              " '082 singer',\n",
              " '083',\n",
              " '083 group',\n",
              " '0830am',\n",
              " '0830am asking',\n",
              " '084',\n",
              " '084 rapper',\n",
              " '0845',\n",
              " '0845 went',\n",
              " '085',\n",
              " '085 type',\n",
              " '086',\n",
              " '086 thing',\n",
              " '087',\n",
              " '087 place',\n",
              " '088',\n",
              " '088 radio',\n",
              " '089',\n",
              " '089 tv',\n",
              " '09',\n",
              " '09 access',\n",
              " '09 aired',\n",
              " '09 almost',\n",
              " '09 big',\n",
              " '09 coolest',\n",
              " '09 ever',\n",
              " '09 number',\n",
              " '09 paris',\n",
              " '09 園遊會',\n",
              " '090',\n",
              " '090 junk',\n",
              " '091',\n",
              " '091 overall',\n",
              " '0915',\n",
              " '0915 diva',\n",
              " '092',\n",
              " '092 stores',\n",
              " '093',\n",
              " '093 shoe',\n",
              " '094',\n",
              " '094 fast',\n",
              " '095',\n",
              " '095 restaurant',\n",
              " '096',\n",
              " '096 shape',\n",
              " '097',\n",
              " '097 time',\n",
              " '098',\n",
              " '098 000',\n",
              " '098 country',\n",
              " '098 senttuesday',\n",
              " '099',\n",
              " '099 state',\n",
              " '0l',\n",
              " '0l really',\n",
              " '0n',\n",
              " '0n local',\n",
              " '0ne',\n",
              " '0ne favourite',\n",
              " '0o',\n",
              " '0o well',\n",
              " '0ut',\n",
              " '0ut begitu',\n",
              " '0x81000302',\n",
              " '0x81000302 brief',\n",
              " '10',\n",
              " '10 10',\n",
              " '10 11',\n",
              " '10 115',\n",
              " '10 12',\n",
              " '10 15',\n",
              " '10 20',\n",
              " '10 2001',\n",
              " '10 2002',\n",
              " '10 2003',\n",
              " '10 2004',\n",
              " '10 22',\n",
              " '10 24th',\n",
              " '10 45',\n",
              " '10 50',\n",
              " '10 6630pm',\n",
              " '10 ____',\n",
              " '10 absences',\n",
              " '10 acquaintances',\n",
              " '10 acre',\n",
              " '10 albums',\n",
              " '10 also',\n",
              " '10 always',\n",
              " '10 americans',\n",
              " '10 amsigh',\n",
              " '10 anyway',\n",
              " '10 around',\n",
              " '10 arrests',\n",
              " '10 august',\n",
              " '10 años',\n",
              " '10 back',\n",
              " '10 bananas',\n",
              " '10 bands',\n",
              " '10 beach',\n",
              " '10 best',\n",
              " '10 bible',\n",
              " '10 bin',\n",
              " '10 blame',\n",
              " '10 bleach',\n",
              " '10 body',\n",
              " '10 bravo',\n",
              " '10 bread',\n",
              " '10 bucks',\n",
              " '10 bum',\n",
              " '10 burritos',\n",
              " '10 cab',\n",
              " '10 came',\n",
              " '10 career',\n",
              " '10 cds',\n",
              " '10 cent',\n",
              " '10 cents',\n",
              " '10 class',\n",
              " '10 collect',\n",
              " '10 comeing',\n",
              " '10 commandments',\n",
              " '10 coolest',\n",
              " '10 count',\n",
              " '10 coupon',\n",
              " '10 course',\n",
              " '10 cover',\n",
              " '10 covernbsp',\n",
              " '10 cs',\n",
              " '10 day',\n",
              " '10 days',\n",
              " '10 daysbut',\n",
              " '10 daysjapanese',\n",
              " '10 decided',\n",
              " '10 demoro',\n",
              " '10 den',\n",
              " '10 describe',\n",
              " '10 didnt',\n",
              " '10 different',\n",
              " '10 dinner',\n",
              " '10 dirty',\n",
              " '10 diva',\n",
              " '10 dollars',\n",
              " '10 dont',\n",
              " '10 doods',\n",
              " '10 dream',\n",
              " '10 dressed',\n",
              " '10 dvd',\n",
              " '10 eardrums',\n",
              " '10 either',\n",
              " '10 empire',\n",
              " '10 enough',\n",
              " '10 episodes',\n",
              " '10 er',\n",
              " '10 euros',\n",
              " '10 eurossurprisingly',\n",
              " '10 even',\n",
              " '10 ever',\n",
              " '10 everything',\n",
              " '10 evil',\n",
              " '10 exactly',\n",
              " '10 far',\n",
              " '10 father',\n",
              " '10 fatigue',\n",
              " '10 favorite',\n",
              " '10 feet',\n",
              " '10 fell',\n",
              " '10 ff',\n",
              " '10 final',\n",
              " '10 find',\n",
              " '10 forget',\n",
              " '10 forigners',\n",
              " '10 formal',\n",
              " '10 friends',\n",
              " '10 funny',\n",
              " '10 fuzzy',\n",
              " '10 gallons',\n",
              " '10 game',\n",
              " '10 games',\n",
              " '10 gas',\n",
              " '10 generations',\n",
              " '10 get',\n",
              " '10 gift',\n",
              " '10 gig',\n",
              " '10 girls',\n",
              " '10 goal',\n",
              " '10 golf',\n",
              " '10 good',\n",
              " '10 got',\n",
              " '10 government',\n",
              " '10 grovers',\n",
              " '10 hair',\n",
              " '10 haircut',\n",
              " '10 handling',\n",
              " '10 hanging',\n",
              " '10 hate',\n",
              " '10 hey',\n",
              " '10 high',\n",
              " '10 hit',\n",
              " '10 hooker',\n",
              " '10 hour',\n",
              " '10 hours',\n",
              " '10 however',\n",
              " '10 hrs',\n",
              " '10 hsc',\n",
              " '10 huzzah',\n",
              " '10 im',\n",
              " '10 inches',\n",
              " '10 indicates',\n",
              " '10 iraqi',\n",
              " '10 isnt',\n",
              " '10 items',\n",
              " '10 ive',\n",
              " '10 joined',\n",
              " '10 july',\n",
              " '10 junior',\n",
              " '10 kayak',\n",
              " '10 kids',\n",
              " '10 kinds',\n",
              " '10 kkycfm1023',\n",
              " '10 knew',\n",
              " '10 know',\n",
              " '10 ks',\n",
              " '10 last',\n",
              " '10 latest',\n",
              " '10 laugh',\n",
              " '10 layers',\n",
              " '10 lb',\n",
              " '10 lbs',\n",
              " '10 leaky',\n",
              " '10 less',\n",
              " '10 like',\n",
              " '10 line',\n",
              " '10 lioaz',\n",
              " '10 list',\n",
              " '10 listening',\n",
              " '10 liter',\n",
              " '10 little',\n",
              " '10 long',\n",
              " '10 loss',\n",
              " '10 lost',\n",
              " '10 lovingly',\n",
              " '10 madrid',\n",
              " '10 magazine',\n",
              " '10 magazines',\n",
              " '10 many',\n",
              " '10 marc',\n",
              " '10 marks',\n",
              " '10 matrix',\n",
              " '10 max',\n",
              " '10 may',\n",
              " '10 mb',\n",
              " '10 means',\n",
              " '10 meet',\n",
              " '10 mile',\n",
              " '10 miles',\n",
              " '10 million',\n",
              " '10 min',\n",
              " '10 mins',\n",
              " '10 minute',\n",
              " '10 minutes',\n",
              " '10 mispronunciationstypos',\n",
              " '10 month',\n",
              " '10 months',\n",
              " '10 morning',\n",
              " '10 mothering',\n",
              " '10 mount',\n",
              " '10 mph',\n",
              " '10 muahahahaha',\n",
              " '10 much',\n",
              " '10 mum',\n",
              " '10 murders',\n",
              " '10 musthave',\n",
              " '10 mysteries',\n",
              " '10 nashville',\n",
              " '10 negative',\n",
              " '10 never',\n",
              " '10 new',\n",
              " '10 nights',\n",
              " '10 nonrefundable',\n",
              " '10 note',\n",
              " '10 nsla',\n",
              " '10 object',\n",
              " '10 oclock',\n",
              " '10 oldest',\n",
              " '10 omg',\n",
              " '10 one',\n",
              " '10 opening',\n",
              " '10 pages',\n",
              " '10 pair',\n",
              " '10 part',\n",
              " '10 people',\n",
              " '10 peoples',\n",
              " '10 per',\n",
              " '10 percent',\n",
              " '10 physics',\n",
              " '10 pieces',\n",
              " '10 plus',\n",
              " '10 pluswtfmake',\n",
              " '10 pm',\n",
              " '10 point',\n",
              " '10 points',\n",
              " '10 pounds',\n",
              " '10 pple',\n",
              " '10 query',\n",
              " '10 questions',\n",
              " '10 random',\n",
              " '10 raymonds',\n",
              " '10 read',\n",
              " '10 realistic',\n",
              " '10 really',\n",
              " '10 reasons',\n",
              " '10 reconstruction',\n",
              " '10 reform',\n",
              " '10 residents',\n",
              " '10 respect',\n",
              " '10 reviewer',\n",
              " '10 right',\n",
              " '10 rock',\n",
              " '10 rounds',\n",
              " '10 rules',\n",
              " '10 sandwiches',\n",
              " '10 saw',\n",
              " '10 scott',\n",
              " '10 second',\n",
              " '10 seconds',\n",
              " '10 see',\n",
              " '10 sense',\n",
              " '10 session',\n",
              " '10 show',\n",
              " '10 since',\n",
              " '10 sit',\n",
              " '10 slave',\n",
              " '10 slaves',\n",
              " '10 something',\n",
              " '10 sometime',\n",
              " '10 sonometers',\n",
              " '10 space',\n",
              " '10 sport',\n",
              " '10 squares',\n",
              " '10 st',\n",
              " '10 stake',\n",
              " '10 staples',\n",
              " '10 starving',\n",
              " '10 steering',\n",
              " '10 steps',\n",
              " '10 still',\n",
              " '10 stories',\n",
              " '10 straight',\n",
              " '10 strict',\n",
              " '10 sunithas',\n",
              " '10 suppose',\n",
              " '10 sweetnessbut',\n",
              " '10 tampa',\n",
              " '10 teague',\n",
              " '10 team',\n",
              " '10 technically',\n",
              " '10 theyve',\n",
              " '10 things',\n",
              " '10 times',\n",
              " '10 tip',\n",
              " '10 today',\n",
              " '10 tonic',\n",
              " '10 top',\n",
              " '10 tour',\n",
              " '10 trillion',\n",
              " '10 truer',\n",
              " '10 types',\n",
              " '10 understand',\n",
              " '10 units',\n",
              " '10 urllink',\n",
              " '10 us',\n",
              " '10 usc',\n",
              " '10 v20',\n",
              " '10 vegetarian',\n",
              " '10 volunteers',\n",
              " '10 wasnt',\n",
              " '10 watch',\n",
              " '10 weeks',\n",
              " '10 well',\n",
              " '10 went',\n",
              " '10 whether',\n",
              " '10 white',\n",
              " '10 whole',\n",
              " '10 without',\n",
              " '10 wonderful',\n",
              " '10 wore',\n",
              " '10 worlds',\n",
              " '10 worst',\n",
              " '10 worth',\n",
              " '10 would',\n",
              " '10 yards',\n",
              " '10 yeahits',\n",
              " '10 year',\n",
              " '10 years',\n",
              " '10 yes',\n",
              " '10 young',\n",
              " '10 yr',\n",
              " '10 yrs',\n",
              " '10 yup',\n",
              " '10 止戰之殤',\n",
              " '100',\n",
              " '100 000',\n",
              " '100 101',\n",
              " '100 102',\n",
              " '100 195',\n",
              " '100 200',\n",
              " '100 80s',\n",
              " '100 also',\n",
              " '100 always',\n",
              " '100 american',\n",
              " '100 another',\n",
              " '100 backpedals',\n",
              " '100 beers',\n",
              " '100 begin',\n",
              " '100 best',\n",
              " '100 blisters',\n",
              " '100 bones',\n",
              " '100 books',\n",
              " '100 boredom',\n",
              " '100 boys',\n",
              " '100 bucks',\n",
              " '100 cheaper',\n",
              " '100 cheerleader',\n",
              " '100 chicks',\n",
              " '100 children',\n",
              " '100 clarity',\n",
              " '100 confirmed',\n",
              " '100 correctly',\n",
              " '100 could',\n",
              " '100 days',\n",
              " '100 decibels',\n",
              " '100 degree',\n",
              " '100 denver',\n",
              " '100 different',\n",
              " '100 dollars',\n",
              " '100 drive',\n",
              " '100 ebay',\n",
              " '100 emails',\n",
              " '100 even',\n",
              " '100 exact',\n",
              " '100 favours',\n",
              " '100 feet',\n",
              " '100 finally',\n",
              " '100 financing',\n",
              " '100 first',\n",
              " '100 free',\n",
              " '100 frequently',\n",
              " '100 gain',\n",
              " '100 games',\n",
              " '100 go',\n",
              " '100 got',\n",
              " '100 grande',\n",
              " '100 greatest',\n",
              " '100 guessed',\n",
              " '100 happy',\n",
              " '100 hope',\n",
              " '100 hours',\n",
              " '100 houses',\n",
              " '100 ill',\n",
              " '100 imdbcom',\n",
              " '100 iraqi',\n",
              " '100 jack',\n",
              " '100 jogeburi',\n",
              " '100 kids',\n",
              " '100 kilometers',\n",
              " '100 kinds',\n",
              " '100 know',\n",
              " '100 later',\n",
              " '100 lbs',\n",
              " '100 left',\n",
              " '100 liberal',\n",
              " '100 like',\n",
              " '100 lunch',\n",
              " '100 many',\n",
              " '100 marks',\n",
              " '100 mg',\n",
              " '100 mighty',\n",
              " '100 miles',\n",
              " '100 million',\n",
              " '100 mom',\n",
              " '100 month',\n",
              " '100 morning',\n",
              " '100 mph',\n",
              " '100 much',\n",
              " '100 nations',\n",
              " '100 natural',\n",
              " '100 need',\n",
              " '100 news',\n",
              " '100 notches',\n",
              " '100 oil',\n",
              " '100 ok',\n",
              " '100 one',\n",
              " '100 pages',\n",
              " '100 paper',\n",
              " '100 people',\n",
              " '100 per',\n",
              " '100 percent',\n",
              " '100 pgs',\n",
              " '100 pillsbut',\n",
              " '100 played',\n",
              " '100 points',\n",
              " '100 positive',\n",
              " '100 post',\n",
              " '100 pounds',\n",
              " '100 prochoice',\n",
              " '100 publicly',\n",
              " '100 pull',\n",
              " '100 rare',\n",
              " '100 ready',\n",
              " '100 regarding',\n",
              " '100 reimbursed',\n",
              " '100 residences',\n",
              " '100 residents',\n",
              " '100 risk',\n",
              " '100 rounds',\n",
              " '100 runs',\n",
              " '100 safe',\n",
              " '100 sayumen',\n",
              " '100 shits',\n",
              " '100 shomenuchi',\n",
              " '100 shots',\n",
              " '100 site',\n",
              " '100 slaves',\n",
              " '100 slept',\n",
              " '100 small',\n",
              " '100 soldiers',\n",
              " '100 still',\n",
              " '100 stipend',\n",
              " '100 sure',\n",
              " '100 surety',\n",
              " '100 things',\n",
              " '100 thursday',\n",
              " '100 time',\n",
              " '100 times',\n",
              " '100 tons',\n",
              " '100 troops',\n",
              " '100 true',\n",
              " '100 uai',\n",
              " '100 vitamin',\n",
              " '100 wake',\n",
              " '100 week',\n",
              " '100 whole',\n",
              " '100 winner',\n",
              " '100 words',\n",
              " '100 yards',\n",
              " '100 years',\n",
              " '100 yet',\n",
              " '100 yrs',\n",
              " '100 zeroes',\n",
              " '1000',\n",
              " '1000 45000',\n",
              " '1000 also',\n",
              " '1000 arithmatic',\n",
              " '1000 base',\n",
              " '1000 big',\n",
              " '1000 bucks',\n",
              " '1000 care',\n",
              " '1000 channels',\n",
              " '1000 continued',\n",
              " '1000 doesnt',\n",
              " '1000 dollars',\n",
              " '1000 door',\n",
              " '1000 editors',\n",
              " '1000 exactly',\n",
              " '1000 get',\n",
              " '1000 getting',\n",
              " '1000 gigs',\n",
              " '1000 give',\n",
              " '1000 heads',\n",
              " ...]"
            ]
          },
          "metadata": {
            "tags": []
          },
          "execution_count": 26
        }
      ]
    },
    {
      "cell_type": "markdown",
      "metadata": {
        "id": "RxUSvBvPAt3S"
      },
      "source": [
        "Convert the feature values into a document-term matrix"
      ]
    },
    {
      "cell_type": "code",
      "metadata": {
        "id": "OkLaZQSvexcj"
      },
      "source": [
        "X_train_Xform = countVectorizer.transform(X_train)\n",
        "X_test_Xform = countVectorizer.transform(X_test)"
      ],
      "execution_count": 27,
      "outputs": []
    },
    {
      "cell_type": "code",
      "metadata": {
        "colab": {
          "base_uri": "https://localhost:8080/"
        },
        "id": "h4dGpyuuf-2k",
        "outputId": "ce3351b1-81a3-4e77-e4e8-36a103b0c917"
      },
      "source": [
        "#print(\"Type:\",type(X_train_Xform))\n",
        "X_train_Xform[0]"
      ],
      "execution_count": 28,
      "outputs": [
        {
          "output_type": "execute_result",
          "data": {
            "text/plain": [
              "<1x855318 sparse matrix of type '<class 'numpy.int64'>'\n",
              "\twith 5 stored elements in Compressed Sparse Row format>"
            ]
          },
          "metadata": {
            "tags": []
          },
          "execution_count": 28
        }
      ]
    },
    {
      "cell_type": "code",
      "metadata": {
        "colab": {
          "base_uri": "https://localhost:8080/"
        },
        "id": "XZ2XI0J5ivz0",
        "outputId": "63f2c947-ac5e-4f83-a07e-609444703e66"
      },
      "source": [
        "print('**********Training data**********')\n",
        "print(X_train_Xform)\n",
        "print('**********Test Data**********')\n",
        "print(X_test_Xform)"
      ],
      "execution_count": 29,
      "outputs": [
        {
          "output_type": "stream",
          "text": [
            "**********Training data**********\n",
            "  (0, 90002)\t1\n",
            "  (0, 90138)\t1\n",
            "  (0, 291045)\t1\n",
            "  (0, 291091)\t1\n",
            "  (0, 757213)\t1\n",
            "  (1, 497)\t1\n",
            "  (1, 690)\t1\n",
            "  (1, 1529)\t1\n",
            "  (1, 1611)\t1\n",
            "  (1, 18267)\t1\n",
            "  (1, 18649)\t1\n",
            "  (1, 22972)\t1\n",
            "  (1, 22992)\t1\n",
            "  (1, 35733)\t1\n",
            "  (1, 35850)\t1\n",
            "  (1, 36704)\t1\n",
            "  (1, 36733)\t1\n",
            "  (1, 49453)\t3\n",
            "  (1, 49461)\t1\n",
            "  (1, 50248)\t1\n",
            "  (1, 50575)\t1\n",
            "  (1, 58113)\t1\n",
            "  (1, 58193)\t1\n",
            "  (1, 62682)\t2\n",
            "  (1, 63188)\t1\n",
            "  :\t:\n",
            "  (11999, 539221)\t1\n",
            "  (11999, 552419)\t1\n",
            "  (11999, 552848)\t1\n",
            "  (11999, 620143)\t1\n",
            "  (11999, 620181)\t1\n",
            "  (11999, 622186)\t1\n",
            "  (11999, 622224)\t1\n",
            "  (11999, 624363)\t1\n",
            "  (11999, 624364)\t1\n",
            "  (11999, 656560)\t1\n",
            "  (11999, 656561)\t1\n",
            "  (11999, 678063)\t1\n",
            "  (11999, 678067)\t1\n",
            "  (11999, 696491)\t1\n",
            "  (11999, 696497)\t1\n",
            "  (11999, 714924)\t1\n",
            "  (11999, 714954)\t1\n",
            "  (11999, 747656)\t1\n",
            "  (11999, 748185)\t1\n",
            "  (11999, 771245)\t1\n",
            "  (11999, 771247)\t1\n",
            "  (11999, 831231)\t1\n",
            "  (11999, 831234)\t1\n",
            "  (11999, 845263)\t1\n",
            "  (11999, 845552)\t1\n",
            "**********Test Data**********\n",
            "  (0, 16850)\t1\n",
            "  (0, 31890)\t1\n",
            "  (0, 45990)\t1\n",
            "  (0, 73963)\t1\n",
            "  (0, 78461)\t1\n",
            "  (0, 82474)\t1\n",
            "  (0, 82629)\t1\n",
            "  (0, 84922)\t1\n",
            "  (0, 85441)\t1\n",
            "  (0, 100826)\t1\n",
            "  (0, 112647)\t1\n",
            "  (0, 113254)\t1\n",
            "  (0, 136445)\t3\n",
            "  (0, 136868)\t1\n",
            "  (0, 137329)\t1\n",
            "  (0, 158338)\t1\n",
            "  (0, 161220)\t1\n",
            "  (0, 161300)\t1\n",
            "  (0, 168424)\t1\n",
            "  (0, 178937)\t1\n",
            "  (0, 179048)\t1\n",
            "  (0, 180240)\t1\n",
            "  (0, 211488)\t1\n",
            "  (0, 211587)\t1\n",
            "  (0, 227767)\t1\n",
            "  :\t:\n",
            "  (2999, 805260)\t1\n",
            "  (2999, 805644)\t1\n",
            "  (2999, 809152)\t1\n",
            "  (2999, 809155)\t1\n",
            "  (2999, 818242)\t1\n",
            "  (2999, 819384)\t1\n",
            "  (2999, 825096)\t1\n",
            "  (2999, 825467)\t1\n",
            "  (2999, 828616)\t1\n",
            "  (2999, 828667)\t1\n",
            "  (2999, 832064)\t3\n",
            "  (2999, 832100)\t1\n",
            "  (2999, 832317)\t1\n",
            "  (2999, 832390)\t1\n",
            "  (2999, 838539)\t1\n",
            "  (2999, 838629)\t1\n",
            "  (2999, 839069)\t1\n",
            "  (2999, 839196)\t1\n",
            "  (2999, 839622)\t2\n",
            "  (2999, 840211)\t1\n",
            "  (2999, 840479)\t1\n",
            "  (2999, 847122)\t1\n",
            "  (2999, 847843)\t1\n",
            "  (2999, 851886)\t1\n",
            "  (2999, 851928)\t1\n"
          ],
          "name": "stdout"
        }
      ]
    },
    {
      "cell_type": "markdown",
      "metadata": {
        "id": "hLwC1vStCZq4"
      },
      "source": [
        "Get the count of every label and store it in a dictionary. Print the dictionary of labels and corresponding counts"
      ]
    },
    {
      "cell_type": "code",
      "metadata": {
        "colab": {
          "base_uri": "https://localhost:8080/"
        },
        "id": "U8dPBEndFcaS",
        "outputId": "23268a09-efa0-4230-c410-7ab5da3c51ff"
      },
      "source": [
        "label_counts=dict()\n",
        "\n",
        "for labels in blog_df.labels.values:\n",
        "    for label in labels:\n",
        "        if label in label_counts:\n",
        "            label_counts[str(label)]+=1\n",
        "        else:\n",
        "            label_counts[str(label)]=1\n",
        "\n",
        "label_counts"
      ],
      "execution_count": 30,
      "outputs": [
        {
          "output_type": "execute_result",
          "data": {
            "text/plain": [
              "{'13': 1,\n",
              " '14': 1,\n",
              " '15': 1,\n",
              " '16': 1,\n",
              " '17': 1,\n",
              " '23': 1,\n",
              " '24': 1,\n",
              " '25': 1,\n",
              " '26': 1,\n",
              " '27': 1,\n",
              " '33': 1,\n",
              " '34': 1,\n",
              " '35': 1,\n",
              " '36': 1,\n",
              " '37': 1,\n",
              " '38': 1,\n",
              " '39': 1,\n",
              " '40': 1,\n",
              " '41': 1,\n",
              " '42': 1,\n",
              " '43': 1,\n",
              " '44': 1,\n",
              " '45': 1,\n",
              " '46': 1,\n",
              " '47': 1,\n",
              " 'Accounting': 35,\n",
              " 'Advertising': 5,\n",
              " 'Agriculture': 46,\n",
              " 'Aquarius': 941,\n",
              " 'Architecture': 45,\n",
              " 'Aries': 4732,\n",
              " 'Arts': 289,\n",
              " 'Automotive': 14,\n",
              " 'Banking': 61,\n",
              " 'BusinessServices': 148,\n",
              " 'Cancer': 1132,\n",
              " 'Capricorn': 596,\n",
              " 'Communications-Media': 99,\n",
              " 'Consulting': 57,\n",
              " 'Education': 609,\n",
              " 'Engineering': 330,\n",
              " 'Fashion': 1622,\n",
              " 'Gemini': 412,\n",
              " 'Government': 85,\n",
              " 'HumanResources': 2,\n",
              " 'Internet': 652,\n",
              " 'InvestmentBanking': 70,\n",
              " 'Law': 44,\n",
              " 'LawEnforcement-Security': 46,\n",
              " 'Leo': 880,\n",
              " 'Libra': 705,\n",
              " 'Marketing': 207,\n",
              " 'Military': 19,\n",
              " 'Museums-Libraries': 66,\n",
              " 'Non-Profit': 150,\n",
              " 'Pisces': 1147,\n",
              " 'Publishing': 67,\n",
              " 'Religion': 28,\n",
              " 'Sagittarius': 1589,\n",
              " 'Science': 78,\n",
              " 'Scorpio': 1232,\n",
              " 'Sports-Recreation': 80,\n",
              " 'Student': 1680,\n",
              " 'Taurus': 1019,\n",
              " 'Technology': 2802,\n",
              " 'Telecommunications': 7,\n",
              " 'Transportation': 46,\n",
              " 'Virgo': 615,\n",
              " 'female': 6450,\n",
              " 'indUnk': 5511,\n",
              " 'male': 8550}"
            ]
          },
          "metadata": {
            "tags": []
          },
          "execution_count": 30
        }
      ]
    },
    {
      "cell_type": "markdown",
      "metadata": {
        "id": "MNyVgEq7CyUV"
      },
      "source": [
        "We will transform labels to a binary form using MultiLabelBinarizer. This converts the label to a set of 0s and 1s. "
      ]
    },
    {
      "cell_type": "code",
      "metadata": {
        "id": "gO6TOQ9ri_2T"
      },
      "source": [
        "binarizer=MultiLabelBinarizer(classes=sorted(label_counts.keys()))\n",
        "y_train = binarizer.fit_transform(y_train)\n",
        "y_test = binarizer.transform(y_test)"
      ],
      "execution_count": 31,
      "outputs": []
    },
    {
      "cell_type": "markdown",
      "metadata": {
        "id": "HLcrobQmEkhD"
      },
      "source": [
        "We will use the One vs Rest approach implemented using OneVsRestClassifier. This trains a number of classifiers i.e number of tags. We use a simple LogisticRegression classifier for this task. We experimented with other classifiers such as KNN, SVC but Logistic Classifier performed the best among them\n",
        "\n",
        "Note : This step takes about 15 minutes to run"
      ]
    },
    {
      "cell_type": "code",
      "metadata": {
        "colab": {
          "base_uri": "https://localhost:8080/"
        },
        "id": "ycj90Ps2GG53",
        "outputId": "a57cc97f-bff9-425c-9a7e-e08a1d0218c6"
      },
      "source": [
        "\n",
        "model=LogisticRegression(solver='lbfgs', max_iter=1000)\n",
        "#model = SVC(C=1, gamma='scale')\n",
        "#model = KNeighborsClassifier(n_neighbors=3)\n",
        "model=OneVsRestClassifier(model)\n",
        "model.fit(X_train_Xform,y_train)"
      ],
      "execution_count": 32,
      "outputs": [
        {
          "output_type": "execute_result",
          "data": {
            "text/plain": [
              "OneVsRestClassifier(estimator=LogisticRegression(C=1.0, class_weight=None,\n",
              "                                                 dual=False, fit_intercept=True,\n",
              "                                                 intercept_scaling=1,\n",
              "                                                 l1_ratio=None, max_iter=1000,\n",
              "                                                 multi_class='auto',\n",
              "                                                 n_jobs=None, penalty='l2',\n",
              "                                                 random_state=None,\n",
              "                                                 solver='lbfgs', tol=0.0001,\n",
              "                                                 verbose=0, warm_start=False),\n",
              "                    n_jobs=None)"
            ]
          },
          "metadata": {
            "tags": []
          },
          "execution_count": 32
        }
      ]
    },
    {
      "cell_type": "code",
      "metadata": {
        "colab": {
          "base_uri": "https://localhost:8080/"
        },
        "id": "iTO0ubCAGNmD",
        "outputId": "886ce675-0824-4c5a-b7dd-6fe4d6b5e5e5"
      },
      "source": [
        "Ypred=model.predict(X_test_Xform)\n",
        "Ypred"
      ],
      "execution_count": 33,
      "outputs": [
        {
          "output_type": "execute_result",
          "data": {
            "text/plain": [
              "array([[0, 0, 0, ..., 1, 0, 0],\n",
              "       [0, 0, 0, ..., 0, 0, 1],\n",
              "       [0, 0, 0, ..., 0, 0, 1],\n",
              "       ...,\n",
              "       [0, 0, 0, ..., 1, 0, 0],\n",
              "       [0, 0, 0, ..., 0, 1, 1],\n",
              "       [0, 0, 0, ..., 0, 0, 1]])"
            ]
          },
          "metadata": {
            "tags": []
          },
          "execution_count": 33
        }
      ]
    },
    {
      "cell_type": "code",
      "metadata": {
        "colab": {
          "base_uri": "https://localhost:8080/"
        },
        "id": "2YsUkOB94sqJ",
        "outputId": "63974e47-2c1b-4995-e586-915420c46210"
      },
      "source": [
        "y_test"
      ],
      "execution_count": 34,
      "outputs": [
        {
          "output_type": "execute_result",
          "data": {
            "text/plain": [
              "array([[0, 0, 0, ..., 1, 0, 0],\n",
              "       [0, 0, 0, ..., 0, 0, 1],\n",
              "       [0, 0, 0, ..., 0, 0, 1],\n",
              "       ...,\n",
              "       [0, 0, 0, ..., 1, 0, 0],\n",
              "       [0, 0, 0, ..., 0, 1, 1],\n",
              "       [0, 0, 0, ..., 1, 1, 0]])"
            ]
          },
          "metadata": {
            "tags": []
          },
          "execution_count": 34
        }
      ]
    },
    {
      "cell_type": "markdown",
      "metadata": {
        "id": "8lGk1jzYRiUM"
      },
      "source": [
        "Let us display the classification report based on micro, macro and weighted averaging"
      ]
    },
    {
      "cell_type": "code",
      "metadata": {
        "id": "2bnpErtp46Mk"
      },
      "source": [
        "def display_metrics_micro(Ytest, Ypred):\n",
        "    print('Accuracy score: ', accuracy_score(Ytest, Ypred))\n",
        "    print('F1 score: Micro', f1_score(Ytest, Ypred, average='micro'))\n",
        "    print('Average precision score: Micro', average_precision_score(Ytest, Ypred, average='micro'))\n",
        "    print('Average recall score: Micro', recall_score(Ytest, Ypred, average='micro'))\n",
        "    \n",
        "def display_metrics_macro(Ytest, Ypred):\n",
        "    print('Accuracy score: ', accuracy_score(Ytest, Ypred))\n",
        "    print('F1 score: Macro', f1_score(Ytest, Ypred, average='macro'))\n",
        "    print('Average recall score: MAcro', recall_score(Ytest, Ypred, average='macro'))\n",
        "    \n",
        "def display_metrics_weighted(Ytest, Ypred):\n",
        "    print('Accuracy score: ', accuracy_score(Ytest, Ypred))\n",
        "    print('F1 score: weighted', f1_score(Ytest, Ypred, average='weighted'))\n",
        "    print('Average precision score: weighted', average_precision_score(Ytest, Ypred, average='weighted'))\n",
        "    print('Average recall score: weighted', recall_score(Ytest, Ypred, average='weighted'))"
      ],
      "execution_count": 35,
      "outputs": []
    },
    {
      "cell_type": "markdown",
      "metadata": {
        "id": "jOzf8clpRzJF"
      },
      "source": [
        "In Micro-average method, we sum up individual true positives, false positives, and false negatives of the system for different sets and the apply them to get the statistics."
      ]
    },
    {
      "cell_type": "code",
      "metadata": {
        "colab": {
          "base_uri": "https://localhost:8080/"
        },
        "id": "UrcIJkeB5BgZ",
        "outputId": "9e2c5cc6-d3a1-402b-8727-babe8bfc0cdb"
      },
      "source": [
        "display_metrics_micro(y_test,Ypred)"
      ],
      "execution_count": 36,
      "outputs": [
        {
          "output_type": "stream",
          "text": [
            "Accuracy score:  0.191\n",
            "F1 score: Micro 0.5671771164403352\n",
            "Average precision score: Micro 0.37737412399897136\n",
            "Average recall score: Micro 0.43622222222222223\n"
          ],
          "name": "stdout"
        }
      ]
    },
    {
      "cell_type": "markdown",
      "metadata": {
        "id": "bK65CI_tR6wi"
      },
      "source": [
        "In the macro average Method, we consider the average of precision and recall of the system on different sets"
      ]
    },
    {
      "cell_type": "code",
      "metadata": {
        "colab": {
          "base_uri": "https://localhost:8080/"
        },
        "id": "uJGRLT8TjZGN",
        "outputId": "9468dff0-86d7-44dc-a969-fa2ac6ea887d"
      },
      "source": [
        "display_metrics_macro(y_test,Ypred)"
      ],
      "execution_count": 37,
      "outputs": [
        {
          "output_type": "stream",
          "text": [
            "Accuracy score:  0.191\n",
            "F1 score: Macro 0.14436921766671557\n",
            "Average recall score: MAcro 0.1017775391039989\n"
          ],
          "name": "stdout"
        }
      ]
    },
    {
      "cell_type": "code",
      "metadata": {
        "colab": {
          "base_uri": "https://localhost:8080/"
        },
        "id": "H15x8i765yKi",
        "outputId": "a153346a-105c-40f9-c0ed-bad56aff9d2b"
      },
      "source": [
        "display_metrics_weighted(y_test,Ypred)"
      ],
      "execution_count": 38,
      "outputs": [
        {
          "output_type": "stream",
          "text": [
            "Accuracy score:  0.191\n",
            "F1 score: weighted 0.5243528874758826\n",
            "Average precision score: weighted 0.4712070021851925\n",
            "Average recall score: weighted 0.43622222222222223\n"
          ],
          "name": "stdout"
        }
      ]
    },
    {
      "cell_type": "markdown",
      "metadata": {
        "id": "w17MG3tkSHel"
      },
      "source": [
        "Print the actual and predicted labels for the first 15 entries from the dataset"
      ]
    },
    {
      "cell_type": "code",
      "metadata": {
        "colab": {
          "base_uri": "https://localhost:8080/"
        },
        "id": "0riujgPA6DU2",
        "outputId": "e68ef2ca-0dfa-48bb-ddaf-ffcefe272c25"
      },
      "source": [
        "preds = Ypred[:15]\n",
        "actuals = y_test[:15]\n",
        "\n",
        "five_actual = binarizer.inverse_transform(actuals)\n",
        "five_actual"
      ],
      "execution_count": 39,
      "outputs": [
        {
          "output_type": "execute_result",
          "data": {
            "text/plain": [
              "[('Capricorn', 'Internet', 'female'),\n",
              " ('Aries', 'Fashion', 'male'),\n",
              " ('Leo', 'Telecommunications', 'male'),\n",
              " ('Capricorn', 'Sports-Recreation', 'male'),\n",
              " ('Taurus', 'female', 'indUnk'),\n",
              " ('Aries', 'Fashion', 'male'),\n",
              " ('Aries', 'Technology', 'male'),\n",
              " ('Leo', 'Student', 'female'),\n",
              " ('Pisces', 'female', 'indUnk'),\n",
              " ('Aries', 'Technology', 'male'),\n",
              " ('Aquarius', 'Education', 'female'),\n",
              " ('Sagittarius', 'female', 'indUnk'),\n",
              " ('Government', 'Virgo', 'female'),\n",
              " ('Aries', 'Fashion', 'male'),\n",
              " ('Aries', 'Fashion', 'male')]"
            ]
          },
          "metadata": {
            "tags": []
          },
          "execution_count": 39
        }
      ]
    },
    {
      "cell_type": "code",
      "metadata": {
        "colab": {
          "base_uri": "https://localhost:8080/"
        },
        "id": "aaeUWvXe6HmO",
        "outputId": "8bcba81c-cd51-4e76-dc80-9281492b7eb6"
      },
      "source": [
        "five_pred = binarizer.inverse_transform(preds)\n",
        "five_pred"
      ],
      "execution_count": 40,
      "outputs": [
        {
          "output_type": "execute_result",
          "data": {
            "text/plain": [
              "[('female',),\n",
              " ('male',),\n",
              " ('Aquarius', 'Banking', 'male'),\n",
              " ('male',),\n",
              " ('female', 'indUnk'),\n",
              " ('Aries', 'male'),\n",
              " ('male',),\n",
              " ('Student', 'female', 'indUnk'),\n",
              " ('Sagittarius', 'female', 'indUnk'),\n",
              " ('Aries', 'Technology', 'male'),\n",
              " ('Aries', 'male'),\n",
              " ('Fashion', 'Sagittarius', 'indUnk'),\n",
              " ('female', 'indUnk'),\n",
              " ('Aries', 'male'),\n",
              " ('male',)]"
            ]
          },
          "metadata": {
            "tags": []
          },
          "execution_count": 40
        }
      ]
    },
    {
      "cell_type": "markdown",
      "metadata": {
        "id": "Qu-R_xZASTnd"
      },
      "source": [
        "Print the true vs predicted labels for randomly chosen 10 entries from the dataset."
      ]
    },
    {
      "cell_type": "code",
      "metadata": {
        "colab": {
          "base_uri": "https://localhost:8080/"
        },
        "id": "5YU0ELA-6QpB",
        "outputId": "936b6a1e-f2f8-4e35-efcf-829bf5526244"
      },
      "source": [
        "rand=[]\n",
        "for i in range(10):\n",
        "    rand.append(random.randint(1,len(Ypred)))\n",
        "   \n",
        "for i in rand:    \n",
        "    print(\"Predicted:\",binarizer.inverse_transform(Ypred)[i])\n",
        "    print(\"Actual:\",binarizer.inverse_transform(y_test)[i],'\\n')"
      ],
      "execution_count": 41,
      "outputs": [
        {
          "output_type": "stream",
          "text": [
            "Predicted: ('male',)\n",
            "Actual: ('Capricorn', 'Engineering', 'male') \n",
            "\n",
            "Predicted: ('female',)\n",
            "Actual: ('Consulting', 'Pisces', 'female') \n",
            "\n",
            "Predicted: ('Education', 'Pisces', 'male')\n",
            "Actual: ('Education', 'Pisces', 'male') \n",
            "\n",
            "Predicted: ('Aries', 'male')\n",
            "Actual: ('Aries', 'Technology', 'male') \n",
            "\n",
            "Predicted: ('male',)\n",
            "Actual: ('Taurus', 'female', 'indUnk') \n",
            "\n",
            "Predicted: ('female',)\n",
            "Actual: ('Pisces', 'female', 'indUnk') \n",
            "\n",
            "Predicted: ('male',)\n",
            "Actual: ('Aquarius', 'Engineering', 'male') \n",
            "\n",
            "Predicted: ('male',)\n",
            "Actual: ('Taurus', 'female', 'indUnk') \n",
            "\n",
            "Predicted: ('male',)\n",
            "Actual: ('Aries', 'Technology', 'male') \n",
            "\n",
            "Predicted: ('Aries', 'Fashion', 'male')\n",
            "Actual: ('Aries', 'Fashion', 'male') \n",
            "\n"
          ],
          "name": "stdout"
        }
      ]
    },
    {
      "cell_type": "markdown",
      "metadata": {
        "id": "ZC2UHfMIsfow"
      },
      "source": [
        "It is observed that the actual and predicted values are the same in most of the cases. There are a few data points where the predictions are either not complete or accurate"
      ]
    },
    {
      "cell_type": "markdown",
      "metadata": {
        "id": "2UQCka3VSaRq"
      },
      "source": [
        "## Conclusion\n",
        "\n",
        "1. We loaded the provided data set and performed exploratory data analysis on the data\n",
        "2. We considered a subset of the data and performed data pre-processing to make sentences lower case, remove stop words, remove unwanted characters etc. \n",
        "3. We vectorized the features using CountVectorizer to created  Bag of words\n",
        "4. We created a dictionary to get the count of each label\n",
        "5. Using OneVsRest approach and Logistic Regression Classifier, we trained the model \n",
        "6. We displayed the classification report using different metrics - micro, macro and weighted\n",
        "7. We chose random data points from the validation set and compared the actual and predicted values"
      ]
    },
    {
      "cell_type": "markdown",
      "metadata": {
        "id": "aU_renl628Sp"
      },
      "source": [
        "## Part 2 - Customer Support"
      ]
    },
    {
      "cell_type": "markdown",
      "metadata": {
        "id": "kIQtGcDcQrak"
      },
      "source": [
        "The objective of this part of the assignment is to \n",
        "\n",
        "* Implement a text-based chatbot based that can provide Customer Support\n",
        "* The chatbot should accept arbitrary questions from the customer and reply with relevant answers\n",
        "* Provide continuous interaction until the customer opts to \"Quit\" the chat\n",
        "* Enhance the corpus by adding more questions and answers"
      ]
    },
    {
      "cell_type": "markdown",
      "metadata": {
        "id": "IsCLbR-FSrJm"
      },
      "source": [
        "Load and displaty the enhanced corpus, which is a .JSON file\n",
        "\n",
        "Note: The corpus provided was enhanced with more questions and responses"
      ]
    },
    {
      "cell_type": "code",
      "metadata": {
        "id": "f0pFMmZv6JL7",
        "colab": {
          "base_uri": "https://localhost:8080/"
        },
        "outputId": "e0e7831f-380a-4746-f697-0289e6f0e79d"
      },
      "source": [
        "with open(\"/content/drive/MyDrive/Colab Notebooks/Assignments/Statistical NLP/GL Bot.json\") as file:\n",
        "  Corpus = json.load(file)\n",
        "\n",
        "print(Corpus)"
      ],
      "execution_count": 49,
      "outputs": [
        {
          "output_type": "stream",
          "text": [
            "{'intents': [{'tag': 'Intro', 'patterns': ['hi', 'how are you', 'is anyone there', 'hello', 'whats up', 'hey', 'yo', 'hola', 'hiya', 'hows it going', 'listen', 'please help me', 'i am learner from', 'i belong to', 'aiml batch', 'aifl batch', 'i am from', 'my pm is', 'blended', 'online', 'i am from', 'hey ya', 'talking to you for first time'], 'responses': ['Hello! how can i help you ?'], 'context_set': ''}, {'tag': 'Exit', 'patterns': ['thank you', 'thanks', 'cya', 'see you', 'later', 'see you later', 'goodbye', 'i am leaving', 'no more questions', 'have a Good day', 'you helped me', 'thanks a lot', 'thanks a ton', 'you are the best', 'great help', 'too good', 'you are a good learning buddy'], 'responses': [\"I am happy to be able to assist you. {Enter 'quit' to end}\"], 'context_set': ''}, {'tag': 'Olympus', 'patterns': ['olympus', 'explain me how olympus works', 'I am not able to understand olympus', 'olympus window not working', 'no access to olympus', 'unable to see link in olympus', 'no link visible on olympus', 'whom to contact for olympus', 'lot of problem with olympus', 'olypus is not a good tool', 'lot of problems with olympus', 'how to use olympus', 'teach me olympus'], 'responses': ['Please refer to the Link: Olympus wiki'], 'context_set': ''}, {'tag': 'ML', 'patterns': ['i am not able to understand svm', 'explain me how machine learning works', 'i am not able to understand naive bayes', 'unable to understand logistic regression', 'what are ensemble techniques', 'Explain knn', 'i am not able to understand knn imputer', 'how do I do cross validation', 'Please help me understand boosting', 'what are the concepts in random forest', 'i am not able to understand ada boosting', 'how do I understand gradient boosting', 'what is machine learning', 'what is the full form of ML', 'SL', 'what is supervised learning', 'what is knn', 'what are some ML algorithms', 'logistic regression', 'please explain linear regression', 'what is classification', 'help me download good data sets', 'what is the difference between regression and classification', 'naive bayes', 'nb', 'ensemble techniques', 'bagging', 'boosting', 'ada boosting', 'ada', 'gradient boosting', 'what is grid search', 'what is randomized search', 'what is principal component analysis', 'what is pca', 'How can I tune hyperparameters', 'hyper parameters'], 'responses': ['Please refer to the Machine Learning wiki'], 'context_set': ''}, {'tag': 'NN', 'patterns': ['what is deep learning', 'what is a fully connected neural network', 'what is stochastic gradient descent', 'unable to understand deep learning', 'what are some DL algorithms', 'explain me how deep learning works', 'i am not able to understand deep learning', 'not able to understand neural nets', 'very diffult to understand neural nets', 'unable to understand neural nets', 'ann', 'artificial intelligence', 'artificial neural networks', 'weights', 'activation function', 'hidden layers', 'what is a tanh function', 'what are dense layers', 'how do I drop weights', 'softmax', 'sigmoid', 'relu', 'explain vanishing gradients', 'problem of exploding gradients', 'otimizer', 'forward propagation', 'where can I download pre-trained models', 'backward propagation', 'epochs', 'what is dimnishing weights', 'epoch', 'what is an epoch', 'adam', 'sgd'], 'responses': ['Please refer to the Neural Nets wiki'], 'context_set': ''}, {'tag': 'CV', 'patterns': ['what is CV', 'cnn', 'convolutional neural network', 'Computer Vision', 'object detection', 'semantic segmentation', 'rgb', 'image processing', 'how to apply Gaussian filtering', 'cv2', 'help me in resizing images', 'what is max pooling and average pooling', 'please explain instance segmentation', 'how do I process pictures', 'what is a unet architecture', 'what is a unet', 'i want to download images', 'augment image quality', 'horiziontal vertical image flip', 'image preprocessing', 'imagenet is a great data set', 'pooling layer follows a conv layer', 'label images', '3d pose estimation', 'machine vision', 'object recognition and detection', 'sgd'], 'responses': ['Please refer to the Computer Vision wiki'], 'context_set': ''}, {'tag': 'NLP', 'patterns': ['what is NLP', 'sequence models', 'stemming', 'explain how to stem words', 'please explain lemmatization with an example', 'how can I generate token sentences', 'tokenization', 'I want to download a corpus', 'what are sequential networks', 'what is an attention network', 'lemmatization', 'lemma is the root word', 'what is long short term memory', 'explain lstm concepts', 'bag of words', 'text based chat bot', 'word embeddings', 'word2vec', 'what is XLNet', 'glove', 'help me with attention mechanism', 'what is sentiment analysis', 'what is an lstm', 'please help me with recurrent neural network', 'what is rnn', 'voice chatbot', 'concept of named entity recognition', 'help me chunk and chink sentences', 'how big is your corpus', 'what is a corpus', 'have you heard of corpora', 'teach me tf idf', 'machine translation', 'bert', 'transformers', 'where can i learn more about sentiment analysis', 'can you explain sentence chunking with examples', 'voice recognition', 'conversational assistant', 'virtual assistant', 'pos tagging', 'parts of speech', 'sgd'], 'responses': ['Please refer to the Natural Language Processing wiki'], 'context_set': ''}, {'tag': 'Bot', 'patterns': ['what is your name', 'who are you', 'name please', 'what is your name', 'what do you do', 'what is your purpose', 'how are you known to people', 'please introduce yourself', 'can I get to know you', 'why do you exist', 'how should I call you', 'how should I address you', 'what do people call you', 'what are you known for', 'what is your function', 'how can you help me', 'when are your hours of operations', 'what are your working hours', 'operating hours', 'working hours', 'hours'], 'responses': ['I am GLBOT, your virtual learning assistant. Please ask me anything'], 'context_set': ''}, {'tag': 'Profane', 'patterns': ['what the hell', 'bloody stupid bot', 'do you think you are very smart', 'screw you', 'i hate you', 'you are stupid', 'jerk', 'you are a joke', 'useless piece of shit'], 'responses': ['Please use respectful words'], 'context_set': ''}, {'tag': 'Ticket', 'patterns': ['my problem is not solved', 'you did not help me', 'not a good solution', 'I did not receive help', 'my query is not answered', 'can i talk to your supervisor', 'please call your boss', 'my question is unanswered', 'bad solution', 'not good solution', 'no help', 'wasted my time', 'useless bot', 'create a ticket'], 'responses': ['Transferring the request to your PM'], 'context_set': ''}]}\n"
          ],
          "name": "stdout"
        }
      ]
    },
    {
      "cell_type": "markdown",
      "metadata": {
        "id": "vYt3b5YUafAg"
      },
      "source": [
        "Tokenize the corpus using \"punkt\" Sentence Tokenizer "
      ]
    },
    {
      "cell_type": "code",
      "metadata": {
        "colab": {
          "base_uri": "https://localhost:8080/"
        },
        "id": "3f38-f1i5F2N",
        "outputId": "42318869-32c6-4875-d05a-afc97cef9956"
      },
      "source": [
        "#Download the tokenizer\n",
        "nltk.download('punkt')\n",
        "\n",
        "\n",
        "W = []\n",
        "L = []\n",
        "doc_x = []\n",
        "doc_y = []\n",
        "\n",
        "#Loop through the Corpus and tokenize all sentences (patterns)\n",
        "for intent in Corpus['intents']:\n",
        "  for pattern in intent['patterns']:\n",
        "    w_temp = nltk.word_tokenize(pattern)\n",
        "    W.extend(w_temp)\n",
        "    doc_x.append(w_temp)\n",
        "    doc_y.append(intent['tag'])\n",
        "  \n",
        "  # Collect all intents\n",
        "  if intent['tag'] not in L:\n",
        "    L.append(intent['tag'])"
      ],
      "execution_count": 50,
      "outputs": [
        {
          "output_type": "stream",
          "text": [
            "[nltk_data] Downloading package punkt to /root/nltk_data...\n",
            "[nltk_data]   Package punkt is already up-to-date!\n"
          ],
          "name": "stdout"
        }
      ]
    },
    {
      "cell_type": "markdown",
      "metadata": {
        "id": "ci_9giSSbmBe"
      },
      "source": [
        "Perform stemming to reduce the bag of words to their root words. In this case, we decided to use PorterStemmer"
      ]
    },
    {
      "cell_type": "code",
      "metadata": {
        "id": "UhvHKs5_-fDx"
      },
      "source": [
        "stemmer = PorterStemmer()\n",
        "\n",
        "W = [stemmer.stem(w.lower()) for w in W if w!='?']\n",
        "W = sorted(list(set(W)))\n",
        "L = sorted(L)"
      ],
      "execution_count": 51,
      "outputs": []
    },
    {
      "cell_type": "markdown",
      "metadata": {
        "id": "yHSzDVxyccPa"
      },
      "source": [
        "Generate a bag of words\n",
        "\n",
        "Perform one-hot encoding of the targets (tags) "
      ]
    },
    {
      "cell_type": "code",
      "metadata": {
        "id": "I0QT4jgr_Xp2"
      },
      "source": [
        "Train = []\n",
        "Target = []\n",
        "\n",
        "out_empty = [0 for _ in range(len(L))]\n",
        "\n",
        "for x,doc in enumerate(doc_x):\n",
        "  bag=[]\n",
        "\n",
        "  w_temp = [stemmer.stem(w.lower()) for w in doc]\n",
        "\n",
        "  # One hot vector encoding\n",
        "  for w in W:\n",
        "    if w in w_temp:\n",
        "      bag.append(1)\n",
        "    else:\n",
        "      bag.append(0)\n",
        "\n",
        "  output_row = out_empty[:]\n",
        "  output_row[L.index(doc_y[x])] = 1\n",
        "\n",
        "  # Construct the training bag of words\n",
        "  Train.append(bag)\n",
        "\n",
        "  #Construct the targets\n",
        "  Target.append(output_row) "
      ],
      "execution_count": 52,
      "outputs": []
    },
    {
      "cell_type": "markdown",
      "metadata": {
        "id": "BiyWLuiHdKgb"
      },
      "source": [
        "We have used a Fully Connected Neural network to train the Corpus against the Target tags. The classifier model thus trained will be used by the chatbot to predict the target tag of a given question"
      ]
    },
    {
      "cell_type": "code",
      "metadata": {
        "colab": {
          "base_uri": "https://localhost:8080/"
        },
        "id": "BkDIPl1NDxIJ",
        "outputId": "c3860807-270e-4266-a127-6ba11b8fb49b"
      },
      "source": [
        "# Build the FCNN using Dense layers and 1 dropout layer\n",
        "# \"Relu\" as the activation function for the hidden layers\n",
        "# \"Softmax\" as the activation for output layer as it is a multi-class classification\n",
        "model=Sequential()\n",
        "\n",
        "model.add(Dense(128,input_dim=len(Train[0]),activation='relu'))\n",
        "model.add(Dense(64,activation='relu'))\n",
        "model.add(Dense(32,activation='relu'))\n",
        "model.add(Dropout(0.3))\n",
        "model.add(Dense(16,activation='relu'))\n",
        "\n",
        "# We used 10 neurons in the output layer corresponding to the 10 tags that need to be predicted\n",
        "model.add(Dense(10,activation='softmax'))\n",
        "\n",
        "# Complile and fit the model\n",
        "model.compile(optimizer='adam',loss='categorical_crossentropy')\n",
        "model.fit(Train,Target,epochs=100,batch_size=32)"
      ],
      "execution_count": 53,
      "outputs": [
        {
          "output_type": "stream",
          "text": [
            "Epoch 1/100\n",
            "8/8 [==============================] - 1s 3ms/step - loss: 2.2880\n",
            "Epoch 2/100\n",
            "8/8 [==============================] - 0s 2ms/step - loss: 2.2488\n",
            "Epoch 3/100\n",
            "8/8 [==============================] - 0s 2ms/step - loss: 2.1985\n",
            "Epoch 4/100\n",
            "8/8 [==============================] - 0s 2ms/step - loss: 2.1287\n",
            "Epoch 5/100\n",
            "8/8 [==============================] - 0s 2ms/step - loss: 2.0786\n",
            "Epoch 6/100\n",
            "8/8 [==============================] - 0s 2ms/step - loss: 2.0183\n",
            "Epoch 7/100\n",
            "8/8 [==============================] - 0s 3ms/step - loss: 1.9670\n",
            "Epoch 8/100\n",
            "8/8 [==============================] - 0s 2ms/step - loss: 1.9314\n",
            "Epoch 9/100\n",
            "8/8 [==============================] - 0s 2ms/step - loss: 1.7981\n",
            "Epoch 10/100\n",
            "8/8 [==============================] - 0s 3ms/step - loss: 1.7638\n",
            "Epoch 11/100\n",
            "8/8 [==============================] - 0s 3ms/step - loss: 1.6207\n",
            "Epoch 12/100\n",
            "8/8 [==============================] - 0s 3ms/step - loss: 1.5314\n",
            "Epoch 13/100\n",
            "8/8 [==============================] - 0s 3ms/step - loss: 1.4180\n",
            "Epoch 14/100\n",
            "8/8 [==============================] - 0s 2ms/step - loss: 1.2930\n",
            "Epoch 15/100\n",
            "8/8 [==============================] - 0s 2ms/step - loss: 1.2074\n",
            "Epoch 16/100\n",
            "8/8 [==============================] - 0s 2ms/step - loss: 1.0913\n",
            "Epoch 17/100\n",
            "8/8 [==============================] - 0s 2ms/step - loss: 0.9534\n",
            "Epoch 18/100\n",
            "8/8 [==============================] - 0s 3ms/step - loss: 0.8463\n",
            "Epoch 19/100\n",
            "8/8 [==============================] - 0s 3ms/step - loss: 0.7633\n",
            "Epoch 20/100\n",
            "8/8 [==============================] - 0s 3ms/step - loss: 0.6357\n",
            "Epoch 21/100\n",
            "8/8 [==============================] - 0s 3ms/step - loss: 0.6070\n",
            "Epoch 22/100\n",
            "8/8 [==============================] - 0s 2ms/step - loss: 0.4885\n",
            "Epoch 23/100\n",
            "8/8 [==============================] - 0s 3ms/step - loss: 0.4639\n",
            "Epoch 24/100\n",
            "8/8 [==============================] - 0s 3ms/step - loss: 0.3745\n",
            "Epoch 25/100\n",
            "8/8 [==============================] - 0s 3ms/step - loss: 0.3179\n",
            "Epoch 26/100\n",
            "8/8 [==============================] - 0s 3ms/step - loss: 0.2932\n",
            "Epoch 27/100\n",
            "8/8 [==============================] - 0s 2ms/step - loss: 0.2951\n",
            "Epoch 28/100\n",
            "8/8 [==============================] - 0s 3ms/step - loss: 0.2747\n",
            "Epoch 29/100\n",
            "8/8 [==============================] - 0s 2ms/step - loss: 0.1701\n",
            "Epoch 30/100\n",
            "8/8 [==============================] - 0s 2ms/step - loss: 0.1963\n",
            "Epoch 31/100\n",
            "8/8 [==============================] - 0s 3ms/step - loss: 0.2592\n",
            "Epoch 32/100\n",
            "8/8 [==============================] - 0s 2ms/step - loss: 0.1580\n",
            "Epoch 33/100\n",
            "8/8 [==============================] - 0s 3ms/step - loss: 0.1864\n",
            "Epoch 34/100\n",
            "8/8 [==============================] - 0s 2ms/step - loss: 0.1677\n",
            "Epoch 35/100\n",
            "8/8 [==============================] - 0s 2ms/step - loss: 0.1542\n",
            "Epoch 36/100\n",
            "8/8 [==============================] - 0s 3ms/step - loss: 0.1391\n",
            "Epoch 37/100\n",
            "8/8 [==============================] - 0s 2ms/step - loss: 0.1392\n",
            "Epoch 38/100\n",
            "8/8 [==============================] - 0s 2ms/step - loss: 0.1110\n",
            "Epoch 39/100\n",
            "8/8 [==============================] - 0s 3ms/step - loss: 0.1327\n",
            "Epoch 40/100\n",
            "8/8 [==============================] - 0s 3ms/step - loss: 0.0983\n",
            "Epoch 41/100\n",
            "8/8 [==============================] - 0s 3ms/step - loss: 0.1038\n",
            "Epoch 42/100\n",
            "8/8 [==============================] - 0s 2ms/step - loss: 0.0951\n",
            "Epoch 43/100\n",
            "8/8 [==============================] - 0s 2ms/step - loss: 0.1325\n",
            "Epoch 44/100\n",
            "8/8 [==============================] - 0s 4ms/step - loss: 0.0906\n",
            "Epoch 45/100\n",
            "8/8 [==============================] - 0s 3ms/step - loss: 0.0709\n",
            "Epoch 46/100\n",
            "8/8 [==============================] - 0s 2ms/step - loss: 0.0850\n",
            "Epoch 47/100\n",
            "8/8 [==============================] - 0s 2ms/step - loss: 0.0671\n",
            "Epoch 48/100\n",
            "8/8 [==============================] - 0s 2ms/step - loss: 0.0595\n",
            "Epoch 49/100\n",
            "8/8 [==============================] - 0s 2ms/step - loss: 0.0614\n",
            "Epoch 50/100\n",
            "8/8 [==============================] - 0s 3ms/step - loss: 0.0930\n",
            "Epoch 51/100\n",
            "8/8 [==============================] - 0s 3ms/step - loss: 0.0654\n",
            "Epoch 52/100\n",
            "8/8 [==============================] - 0s 3ms/step - loss: 0.0655\n",
            "Epoch 53/100\n",
            "8/8 [==============================] - 0s 2ms/step - loss: 0.0676\n",
            "Epoch 54/100\n",
            "8/8 [==============================] - 0s 2ms/step - loss: 0.0621\n",
            "Epoch 55/100\n",
            "8/8 [==============================] - 0s 2ms/step - loss: 0.0913\n",
            "Epoch 56/100\n",
            "8/8 [==============================] - 0s 2ms/step - loss: 0.0719\n",
            "Epoch 57/100\n",
            "8/8 [==============================] - 0s 2ms/step - loss: 0.0547\n",
            "Epoch 58/100\n",
            "8/8 [==============================] - 0s 2ms/step - loss: 0.0485\n",
            "Epoch 59/100\n",
            "8/8 [==============================] - 0s 2ms/step - loss: 0.0548\n",
            "Epoch 60/100\n",
            "8/8 [==============================] - 0s 2ms/step - loss: 0.0543\n",
            "Epoch 61/100\n",
            "8/8 [==============================] - 0s 3ms/step - loss: 0.0708\n",
            "Epoch 62/100\n",
            "8/8 [==============================] - 0s 3ms/step - loss: 0.0432\n",
            "Epoch 63/100\n",
            "8/8 [==============================] - 0s 3ms/step - loss: 0.0482\n",
            "Epoch 64/100\n",
            "8/8 [==============================] - 0s 3ms/step - loss: 0.0625\n",
            "Epoch 65/100\n",
            "8/8 [==============================] - 0s 2ms/step - loss: 0.0409\n",
            "Epoch 66/100\n",
            "8/8 [==============================] - 0s 2ms/step - loss: 0.0502\n",
            "Epoch 67/100\n",
            "8/8 [==============================] - 0s 3ms/step - loss: 0.0824\n",
            "Epoch 68/100\n",
            "8/8 [==============================] - 0s 3ms/step - loss: 0.0368\n",
            "Epoch 69/100\n",
            "8/8 [==============================] - 0s 5ms/step - loss: 0.0311\n",
            "Epoch 70/100\n",
            "8/8 [==============================] - 0s 3ms/step - loss: 0.0497\n",
            "Epoch 71/100\n",
            "8/8 [==============================] - 0s 3ms/step - loss: 0.0482\n",
            "Epoch 72/100\n",
            "8/8 [==============================] - 0s 3ms/step - loss: 0.0587\n",
            "Epoch 73/100\n",
            "8/8 [==============================] - 0s 3ms/step - loss: 0.0588\n",
            "Epoch 74/100\n",
            "8/8 [==============================] - 0s 3ms/step - loss: 0.0948\n",
            "Epoch 75/100\n",
            "8/8 [==============================] - 0s 2ms/step - loss: 0.0569\n",
            "Epoch 76/100\n",
            "8/8 [==============================] - 0s 2ms/step - loss: 0.0616\n",
            "Epoch 77/100\n",
            "8/8 [==============================] - 0s 2ms/step - loss: 0.0557\n",
            "Epoch 78/100\n",
            "8/8 [==============================] - 0s 4ms/step - loss: 0.1011\n",
            "Epoch 79/100\n",
            "8/8 [==============================] - 0s 3ms/step - loss: 0.0666\n",
            "Epoch 80/100\n",
            "8/8 [==============================] - 0s 3ms/step - loss: 0.0488\n",
            "Epoch 81/100\n",
            "8/8 [==============================] - 0s 3ms/step - loss: 0.0567\n",
            "Epoch 82/100\n",
            "8/8 [==============================] - 0s 2ms/step - loss: 0.0438\n",
            "Epoch 83/100\n",
            "8/8 [==============================] - 0s 3ms/step - loss: 0.0443\n",
            "Epoch 84/100\n",
            "8/8 [==============================] - 0s 3ms/step - loss: 0.0540\n",
            "Epoch 85/100\n",
            "8/8 [==============================] - 0s 3ms/step - loss: 0.0434\n",
            "Epoch 86/100\n",
            "8/8 [==============================] - 0s 2ms/step - loss: 0.0549\n",
            "Epoch 87/100\n",
            "8/8 [==============================] - 0s 2ms/step - loss: 0.0398\n",
            "Epoch 88/100\n",
            "8/8 [==============================] - 0s 2ms/step - loss: 0.0214\n",
            "Epoch 89/100\n",
            "8/8 [==============================] - 0s 3ms/step - loss: 0.0568\n",
            "Epoch 90/100\n",
            "8/8 [==============================] - 0s 3ms/step - loss: 0.0757\n",
            "Epoch 91/100\n",
            "8/8 [==============================] - 0s 2ms/step - loss: 0.0453\n",
            "Epoch 92/100\n",
            "8/8 [==============================] - 0s 4ms/step - loss: 0.0519\n",
            "Epoch 93/100\n",
            "8/8 [==============================] - 0s 3ms/step - loss: 0.0362\n",
            "Epoch 94/100\n",
            "8/8 [==============================] - 0s 3ms/step - loss: 0.0345\n",
            "Epoch 95/100\n",
            "8/8 [==============================] - 0s 3ms/step - loss: 0.0294\n",
            "Epoch 96/100\n",
            "8/8 [==============================] - 0s 3ms/step - loss: 0.0388\n",
            "Epoch 97/100\n",
            "8/8 [==============================] - 0s 2ms/step - loss: 0.0531\n",
            "Epoch 98/100\n",
            "8/8 [==============================] - 0s 2ms/step - loss: 0.0283\n",
            "Epoch 99/100\n",
            "8/8 [==============================] - 0s 3ms/step - loss: 0.0359\n",
            "Epoch 100/100\n",
            "8/8 [==============================] - 0s 2ms/step - loss: 0.0403\n"
          ],
          "name": "stdout"
        },
        {
          "output_type": "execute_result",
          "data": {
            "text/plain": [
              "<tensorflow.python.keras.callbacks.History at 0x7feaa91cd690>"
            ]
          },
          "metadata": {
            "tags": []
          },
          "execution_count": 53
        }
      ]
    },
    {
      "cell_type": "code",
      "metadata": {
        "id": "YEfgJTapL5nm"
      },
      "source": [
        "def bag_of_words(s,W):\n",
        "  bag = [0 for _ in range(len(W))]\n",
        "\n",
        "  s_words = nltk.word_tokenize(s)\n",
        "  s_words = [stemmer.stem(word.lower()) for word in s_words]\n",
        "\n",
        "  for se in s_words:\n",
        "    for i,w in enumerate(W):\n",
        "      if w == se:\n",
        "        bag[i] = 1\n",
        "  \n",
        "  return np.array(bag)"
      ],
      "execution_count": 54,
      "outputs": []
    },
    {
      "cell_type": "markdown",
      "metadata": {
        "id": "ceiaq7Wrez5S"
      },
      "source": [
        "Here, we have implemented the chat interface, which engages in a conversation with the customer until he/she types \"quit\""
      ]
    },
    {
      "cell_type": "code",
      "metadata": {
        "id": "db7snMfn6yeS"
      },
      "source": [
        "def chat():\n",
        "  print(\"Chat with GLBOT (Type quit to end conversation)\")\n",
        "  print(\"if answer is not right (type:*)\")\n",
        "  while True:\n",
        "    inp=input(\"\\n\\nYou:\")\n",
        "    if (inp.lower()=='*'):\n",
        "      print(\"GLBOT:Please rephrase your question and try again\")\n",
        "    if (inp.lower()=='quit'):\n",
        "      break\n",
        "\n",
        "    bow = [bag_of_words(inp,W)]\n",
        "    bow = np.array(bow)\n",
        "    results = model.predict(bow)\n",
        "    \n",
        "    results_index = np.argmax(results)\n",
        "    tag = L[results_index]\n",
        "\n",
        "    for tg in Corpus['intents']:\n",
        "      if tg['tag'] == tag:\n",
        "        responses = tg['responses']\n",
        "    \n",
        "    print(random.choice(responses))"
      ],
      "execution_count": 55,
      "outputs": []
    },
    {
      "cell_type": "markdown",
      "metadata": {
        "id": "Xrufuu4Bf-q6"
      },
      "source": [
        "Start the conversation"
      ]
    },
    {
      "cell_type": "code",
      "metadata": {
        "colab": {
          "base_uri": "https://localhost:8080/"
        },
        "id": "9RepcLgmGbAo",
        "outputId": "cf851972-ab62-4a52-ef09-aaec16265ff9"
      },
      "source": [
        "chat()"
      ],
      "execution_count": 56,
      "outputs": [
        {
          "output_type": "stream",
          "text": [
            "Chat with GLBOT (Type quit to end conversation)\n",
            "if answer is not right (type:*)\n",
            "\n",
            "\n",
            "You:hello\n",
            "Hello! how can i help you ?\n",
            "\n",
            "\n",
            "You:who are you\n",
            "I am GLBOT, your virtual learning assistant. Please ask me anything\n",
            "\n",
            "\n",
            "You:can you introduce ?\n",
            "I am GLBOT, your virtual learning assistant. Please ask me anything\n",
            "\n",
            "\n",
            "You:your name\n",
            "I am GLBOT, your virtual learning assistant. Please ask me anything\n",
            "\n",
            "\n",
            "You:what is artificial intelligence\n",
            "Please refer to the Neural Nets wiki\n",
            "\n",
            "\n",
            "You:what is supervised learning\n",
            "Please refer to the Machine Learning wiki\n",
            "\n",
            "\n",
            "You:fully connected network\n",
            "Please refer to the Neural Nets wiki\n",
            "\n",
            "\n",
            "You:help me with bert\n",
            "Please refer to the Natural Language Processing wiki\n",
            "\n",
            "\n",
            "You:what is image\n",
            "Please refer to the Computer Vision wiki\n",
            "\n",
            "\n",
            "You:how is image processed\n",
            "Please refer to the Computer Vision wiki\n",
            "\n",
            "\n",
            "You:what is knn\n",
            "Please refer to the Machine Learning wiki\n",
            "\n",
            "\n",
            "You:what is k nearest neighbors\n",
            "Please refer to the Natural Language Processing wiki\n",
            "\n",
            "\n",
            "You:hw are u \n",
            "Please refer to the Neural Nets wiki\n",
            "\n",
            "\n",
            "You:what can u do for me\n",
            "I am GLBOT, your virtual learning assistant. Please ask me anything\n",
            "\n",
            "\n",
            "You:help me with cnn\n",
            "Please refer to the Computer Vision wiki\n",
            "\n",
            "\n",
            "You:help me with rnn\n",
            "Please refer to the Natural Language Processing wiki\n",
            "\n",
            "\n",
            "You:you are helpful\n",
            "I am happy to be able to assist you. {Enter 'quit' to end}\n",
            "\n",
            "\n",
            "You:quit\n"
          ],
          "name": "stdout"
        }
      ]
    },
    {
      "cell_type": "markdown",
      "metadata": {
        "id": "kYPbsi0PSiy8"
      },
      "source": [
        "## Conclusion"
      ]
    },
    {
      "cell_type": "markdown",
      "metadata": {
        "id": "sHCcIEJIvr3_"
      },
      "source": [
        "1. We loaded the provided corpus in the .JSON format containing the intents, questions and responses\n",
        "\n",
        "2. We performed data pre-processing by tokenizing and stemming\n",
        "\n",
        "3. We generated a BOW and generated word vector embeddings\n",
        "\n",
        "4. We built and trained a Fully Connected Neural Network on the corpus w.r.t the target variable\n",
        "\n",
        "5. We designed a simple conversational UI that accepts questions from the user and used the trained NN to predict the answers"
      ]
    }
  ]
}